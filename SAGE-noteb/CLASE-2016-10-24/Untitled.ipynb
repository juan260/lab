{
 "cells": [
  {
   "cell_type": "code",
   "execution_count": null,
   "metadata": {
    "collapsed": true
   },
   "outputs": [],
   "source": [
    "sage: def cuenta_vecinos(m, j, k):\n",
    "...       '''Cuenta el número de vecinos vivos de la casilla (j,k)'''\n",
    "...       cuenta = 0\n",
    "...       for j0, k0 in [(j - 1,k - 1), (j - 1,k), (j - 1,k + 1), (j,k - 1), (j,k + 1), (j\n",
    "sage: + 1,k - 1), (j + 1,k), (j + 1,k + 1)]:\n",
    "...          if 0<=j0<m.nrows() and 0<=k0<m.ncols():\n",
    "...              cuenta += m[j0,k0]\n",
    "...       return cuenta\n",
    "def paso(m):\n",
    "    F = m.nrows()\n",
    "C = m.ncols()\n",
    "nueva = matrix(F,C)\n",
    "for j in range(F):\n",
    "for k in range(C):\n",
    "vecinos = cuenta_vecinos(m, j, k)\n",
    "if vecinos == 3 or (m[j,k] and vecinos == 2):\n",
    "nueva[j,k] = 1\n",
    "else:\n",
    "nueva[j,k] = 0\n",
    "    return nueva\n",
    "def gameoflife(matriz, generaciones):\n",
    "    for g in range(generaciones):\n",
    "    matriz = paso(matriz)\n",
    "    return matriz\n",
    "\n",
    "m=matrix(8,8)\n",
    "m[3,4]=1\n",
    "m[4,4]=1\n",
    "m[2,4]=1\n",
    "m[4,3]=1\n",
    "m[2,2]=1\n",
    "matrix_plot(m).show()\n",
    "m = gameoflife(m,1)\n",
    "matrix_plot(m).show()\n",
    "\n",
    "%time\n",
    "m=matrix(8,8)\n",
    "m[3,4]=1\n",
    "m[4,4]=1\n",
    "m[2,4]=1\n",
    "m[4,3]=1\n",
    "m[2,2]=1\n",
    "a = animate([matrix_plot(gameoflife(m,j)) for j in range(1,10)])\n",
    "\n"
   ]
  }
 ],
 "metadata": {
  "kernelspec": {
   "display_name": "SageMath 7.3",
   "language": "",
   "name": "sagemath"
  },
  "language_info": {
   "codemirror_mode": {
    "name": "ipython",
    "version": 2
   },
   "file_extension": ".py",
   "mimetype": "text/x-python",
   "name": "python",
   "nbconvert_exporter": "python",
   "pygments_lexer": "ipython2",
   "version": "2.7.10"
  }
 },
 "nbformat": 4,
 "nbformat_minor": 0
}
