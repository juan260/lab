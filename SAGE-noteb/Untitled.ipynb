{
 "cells": [
  {
   "cell_type": "code",
   "execution_count": 1,
   "metadata": {
    "collapsed": true
   },
   "outputs": [],
   "source": [
    "alfb = \"ABCDEFGHIJKLMNOPQRSTUVWXYZ\""
   ]
  },
  {
   "cell_type": "code",
   "execution_count": 7,
   "metadata": {
    "collapsed": false
   },
   "outputs": [
    {
     "name": "stdout",
     "output_type": "stream",
     "text": [
      "25\n"
     ]
    }
   ],
   "source": [
    "print alfb.index('Z')"
   ]
  },
  {
   "cell_type": "code",
   "execution_count": 28,
   "metadata": {
    "collapsed": true
   },
   "outputs": [],
   "source": [
    "from string import *\n",
    "def turnWtoN(string):\n",
    "    for i in srange(len(string)):\n",
    "        string[i:]=capitalize(string[i:])\n",
    "    "
   ]
  },
  {
   "cell_type": "code",
   "execution_count": 30,
   "metadata": {
    "collapsed": false
   },
   "outputs": [
    {
     "data": {
      "text/plain": [
       "8304635753"
      ]
     },
     "execution_count": 30,
     "metadata": {},
     "output_type": "execute_result"
    }
   ],
   "source": [
    "29803*278651"
   ]
  },
  {
   "cell_type": "code",
   "execution_count": 32,
   "metadata": {
    "collapsed": false
   },
   "outputs": [],
   "source": [
    "p=29802*278650"
   ]
  },
  {
   "cell_type": "code",
   "execution_count": 5,
   "metadata": {
    "collapsed": true
   },
   "outputs": [],
   "source": [
    "def fun(p):\n",
    "    for d in srange(2, 10000):\n",
    "        for e in srange(2, 10000):\n",
    "            if (e*d)%p==1:\n",
    "                return e,d"
   ]
  },
  {
   "cell_type": "code",
   "execution_count": 15,
   "metadata": {
    "collapsed": false
   },
   "outputs": [],
   "source": [
    "p1=random_prime(16**20, lbound=16**19)"
   ]
  },
  {
   "cell_type": "code",
   "execution_count": 16,
   "metadata": {
    "collapsed": false
   },
   "outputs": [],
   "source": [
    "p2=random_prime(16**13, lbound=16**12)"
   ]
  },
  {
   "cell_type": "code",
   "execution_count": 17,
   "metadata": {
    "collapsed": true
   },
   "outputs": [],
   "source": [
    "n=p1*p2"
   ]
  },
  {
   "cell_type": "code",
   "execution_count": 19,
   "metadata": {
    "collapsed": false
   },
   "outputs": [
    {
     "data": {
      "text/plain": [
       "True"
      ]
     },
     "execution_count": 19,
     "metadata": {},
     "output_type": "execute_result"
    }
   ],
   "source": [
    "n>16**32 & n<16**33"
   ]
  },
  {
   "cell_type": "code",
   "execution_count": 20,
   "metadata": {
    "collapsed": false
   },
   "outputs": [
    {
     "name": "stdout",
     "output_type": "stream",
     "text": [
      "2428323506017954106779342967988586499897\n"
     ]
    }
   ],
   "source": [
    "print n"
   ]
  },
  {
   "cell_type": "code",
   "execution_count": 21,
   "metadata": {
    "collapsed": true
   },
   "outputs": [],
   "source": [
    "fi=(p1-1)*(p2-1)"
   ]
  },
  {
   "cell_type": "code",
   "execution_count": 22,
   "metadata": {
    "collapsed": true
   },
   "outputs": [],
   "source": [
    "e=random_prime(n, lbound=fi)"
   ]
  },
  {
   "cell_type": "code",
   "execution_count": null,
   "metadata": {
    "collapsed": true
   },
   "outputs": [],
   "source": [
    "d*e+k*fi=1"
   ]
  },
  {
   "cell_type": "code",
   "execution_count": 23,
   "metadata": {
    "collapsed": true
   },
   "outputs": [],
   "source": [
    "def ave(e,fi,lim1, lim2):\n",
    "    for d in srange(lim1, lim2):\n",
    "        if ((e*d)%fi==1):\n",
    "            return d"
   ]
  },
  {
   "cell_type": "code",
   "execution_count": 28,
   "metadata": {
    "collapsed": false
   },
   "outputs": [
    {
     "name": "stdout",
     "output_type": "stream",
     "text": [
      "None\n"
     ]
    }
   ],
   "source": [
    "print ave(e, fi, 1000000, 10000000)"
   ]
  },
  {
   "cell_type": "code",
   "execution_count": 30,
   "metadata": {
    "collapsed": false
   },
   "outputs": [],
   "source": [
    "e=next_prime(fi)"
   ]
  },
  {
   "cell_type": "code",
   "execution_count": 34,
   "metadata": {
    "collapsed": false
   },
   "outputs": [
    {
     "name": "stdout",
     "output_type": "stream",
     "text": [
      "None\n"
     ]
    }
   ],
   "source": [
    "print ave(e, fi, 1, 10000000)"
   ]
  },
  {
   "cell_type": "code",
   "execution_count": 36,
   "metadata": {
    "collapsed": false
   },
   "outputs": [],
   "source": [
    "def bezout_r(a,b):\n",
    "    if a < b:\n",
    "        y,x = bezout_r(b,a)\n",
    "        return x,y\n",
    "    elif b == 0:\n",
    "        return 1,-1\n",
    "    else:\n",
    "        c = a//b\n",
    "        r = a%b\n",
    "        x,y = bezout_r(b,r)\n",
    "        return y,x-c*y"
   ]
  },
  {
   "cell_type": "code",
   "execution_count": 40,
   "metadata": {
    "collapsed": false
   },
   "outputs": [
    {
     "data": {
      "text/plain": [
       "(3095445348330577852322774343691651764691,\n",
       " -3095445348330577852322774343691651764807)"
      ]
     },
     "execution_count": 40,
     "metadata": {},
     "output_type": "execute_result"
    }
   ],
   "source": [
    "bezout_r(e, fi)"
   ]
  },
  {
   "cell_type": "code",
   "execution_count": 41,
   "metadata": {
    "collapsed": true
   },
   "outputs": [],
   "source": [
    "d=3095445348330577852322774343691651764691"
   ]
  },
  {
   "cell_type": "code",
   "execution_count": 43,
   "metadata": {
    "collapsed": false
   },
   "outputs": [
    {
     "data": {
      "text/plain": [
       "(2428323506017954106779342967988586499897,\n",
       " 2428323506017953315184245390309830263771,\n",
       " 3095445348330577852322774343691651764691)"
      ]
     },
     "execution_count": 43,
     "metadata": {},
     "output_type": "execute_result"
    }
   ],
   "source": [
    "n, e, d"
   ]
  },
  {
   "cell_type": "code",
   "execution_count": 46,
   "metadata": {
    "collapsed": false
   },
   "outputs": [],
   "source": [
    "codigo=\"a8dd160f13b0bcfa2d248b575433fa22\""
   ]
  },
  {
   "cell_type": "code",
   "execution_count": 53,
   "metadata": {
    "collapsed": true
   },
   "outputs": [],
   "source": [
    "c=ZZ(codigo,16)"
   ]
  },
  {
   "cell_type": "code",
   "execution_count": 59,
   "metadata": {
    "collapsed": false
   },
   "outputs": [
    {
     "name": "stdout",
     "output_type": "stream",
     "text": [
      "224458248305129660155154623557809732130\n"
     ]
    }
   ],
   "source": [
    "print c"
   ]
  },
  {
   "cell_type": "code",
   "execution_count": 60,
   "metadata": {
    "collapsed": false
   },
   "outputs": [
    {
     "ename": "RuntimeError",
     "evalue": "exponent must be at most 9223372036854775807",
     "output_type": "error",
     "traceback": [
      "\u001b[1;31m-----------------------------------------------------------------------\u001b[0m",
      "\u001b[1;31mRuntimeError\u001b[0m                          Traceback (most recent call last)",
      "\u001b[1;32m<ipython-input-60-31e77e1cb91b>\u001b[0m in \u001b[0;36m<module>\u001b[1;34m()\u001b[0m\n\u001b[1;32m----> 1\u001b[1;33m \u001b[1;32mprint\u001b[0m \u001b[0mc\u001b[0m\u001b[1;33m**\u001b[0m\u001b[0md\u001b[0m\u001b[1;33m\u001b[0m\u001b[0m\n\u001b[0m",
      "\u001b[1;32msage/rings/integer.pyx\u001b[0m in \u001b[0;36msage.rings.integer.Integer.__pow__ (/usr/lib/sagemath//src/build/cythonized/sage/rings/integer.c:13900)\u001b[1;34m()\u001b[0m\n",
      "\u001b[1;31mRuntimeError\u001b[0m: exponent must be at most 9223372036854775807"
     ]
    }
   ],
   "source": [
    "print c**d"
   ]
  },
  {
   "cell_type": "code",
   "execution_count": 61,
   "metadata": {
    "collapsed": true
   },
   "outputs": [],
   "source": [
    "def potencia_mod(a,k,m):\n",
    "    if k==0:\n",
    "        return 1\n",
    "    elif k%2 == 0:\n",
    "        b = potencia_mod(a,k/2,m)\n",
    "        return (b*b)%m\n",
    "    else:\n",
    "        b = potencia_mod(a,(k-1)/2,m)\n",
    "        return (a*b*b)%m"
   ]
  },
  {
   "cell_type": "code",
   "execution_count": 63,
   "metadata": {
    "collapsed": false
   },
   "outputs": [],
   "source": [
    "numeraco=potencia_mod(c, d, n)"
   ]
  },
  {
   "cell_type": "code",
   "execution_count": 66,
   "metadata": {
    "collapsed": false
   },
   "outputs": [
    {
     "data": {
      "text/html": [
       "<html><script type=\"math/tex; mode=display\">\\newcommand{\\Bold}[1]{\\mathbf{#1}}\\left[2, 2, 10, 15, 3, 3, 4, 5, 7, 5, 11, 8, 4, 2, 13, 2, 10, 15, 12, 11, 0, 11, 3, 1, 15, 0, 6, 1, 13, 13, 8, 10\\right]</script></html>"
      ],
      "text/plain": [
       "[2,\n",
       " 2,\n",
       " 10,\n",
       " 15,\n",
       " 3,\n",
       " 3,\n",
       " 4,\n",
       " 5,\n",
       " 7,\n",
       " 5,\n",
       " 11,\n",
       " 8,\n",
       " 4,\n",
       " 2,\n",
       " 13,\n",
       " 2,\n",
       " 10,\n",
       " 15,\n",
       " 12,\n",
       " 11,\n",
       " 0,\n",
       " 11,\n",
       " 3,\n",
       " 1,\n",
       " 15,\n",
       " 0,\n",
       " 6,\n",
       " 1,\n",
       " 13,\n",
       " 13,\n",
       " 8,\n",
       " 10]"
      ]
     },
     "metadata": {},
     "output_type": "display_data"
    }
   ],
   "source": [
    "show(potencia_mod(numeraco, e, n).digits(base=16))"
   ]
  },
  {
   "cell_type": "code",
   "execution_count": 67,
   "metadata": {
    "collapsed": false
   },
   "outputs": [
    {
     "name": "stdout",
     "output_type": "stream",
     "text": [
      "546288220333899382324484664643055498187\n"
     ]
    }
   ],
   "source": [
    "print numeraco"
   ]
  },
  {
   "cell_type": "code",
   "execution_count": 2,
   "metadata": {
    "collapsed": false
   },
   "outputs": [
    {
     "name": "stdout",
     "output_type": "stream",
     "text": [
      "Object `in` not found.\n"
     ]
    }
   ],
   "source": [
    "in?"
   ]
  },
  {
   "cell_type": "code",
   "execution_count": 6,
   "metadata": {
    "collapsed": false
   },
   "outputs": [
    {
     "data": {
      "text/html": [
       "<html><script type=\"math/tex; mode=display\">\\newcommand{\\Bold}[1]{\\mathbf{#1}}\\left[1, 2, 3\\right]</script></html>"
      ],
      "text/plain": [
       "[1, 2, 3]"
      ]
     },
     "metadata": {},
     "output_type": "display_data"
    },
    {
     "data": {
      "text/html": [
       "<html><script type=\"math/tex; mode=display\">\\newcommand{\\Bold}[1]{\\mathbf{#1}}\\left[1, 3\\right]</script></html>"
      ],
      "text/plain": [
       "[1, 3]"
      ]
     },
     "metadata": {},
     "output_type": "display_data"
    }
   ],
   "source": [
    "L=[1, 2, 3]\n",
    "show(L)\n",
    "del L[1]\n",
    "show(L)"
   ]
  },
  {
   "cell_type": "code",
   "execution_count": 9,
   "metadata": {
    "collapsed": true
   },
   "outputs": [],
   "source": [
    "def integral(f, a, b, N):\n",
    "    \n",
    "    integral = 0.0;\n",
    "    for int in xrange(N):\n",
    "        integral = integral + f(a + (b-a)*random())\n",
    "    \n",
    "    integral = integral * ((b-a)/N)\n",
    "\n",
    "\n",
    "    return integral"
   ]
  },
  {
   "cell_type": "code",
   "execution_count": 17,
   "metadata": {
    "collapsed": false
   },
   "outputs": [
    {
     "name": "stdout",
     "output_type": "stream",
     "text": [
      "0.498199079633819\n"
     ]
    }
   ],
   "source": [
    "var('x')\n",
    "f(x) = x\n",
    "print integral(f, 0, 1, 10000)"
   ]
  },
  {
   "cell_type": "markdown",
   "metadata": {},
   "source": [
    "1. Dada la lista L t elegimos una entrada al azar, es decir con igual probabilidad para cada una de las n entradas. Supongamos\n",
    "que hemos obtenido la entrada i.\n",
    "2. A continuación elegimos al azar otra entrada de L t y obtenemos la entrada j.\n",
    "3. Si L t [i] es mayor que cero, definimos L t+1 [i] := L t [i] − 1 y L t+1 [j] := L t [j] + 1, y dejamos las demás entradas igual, y si\n",
    "L t [i] = 0 dejamos L t+1 = L t . Es decir, la partı́cula i ha “interaccionado”, en el instante t, con la j y le ha transferido\n",
    "una unidad de energı́a, pero todo el tiempo la energı́a total del sistema es 5n y, por tanto, la energı́a media es siempre 5."
   ]
  },
  {
   "cell_type": "code",
   "execution_count": 29,
   "metadata": {
    "collapsed": false
   },
   "outputs": [],
   "source": [
    "def sistema(size, tMax, vIni):\n",
    "    L = [vIni]*size;\n",
    "    for int in xrange(tMax):\n",
    "        i = randint(0,size-1)\n",
    "        j = randint(0,size-1)\n",
    "        if(L[i]>0):\n",
    "            L[i]=L[i]-1\n",
    "            L[j]=L[j]+1\n",
    "        \n",
    "        \n",
    "    return L;\n",
    "        \n"
   ]
  },
  {
   "cell_type": "code",
   "execution_count": 42,
   "metadata": {
    "collapsed": false
   },
   "outputs": [],
   "source": [
    "L=sistema(10000, 10000000, 50)\n",
    "\n",
    "v=finance.TimeSeries(L)\n"
   ]
  },
  {
   "cell_type": "code",
   "execution_count": 43,
   "metadata": {
    "collapsed": false
   },
   "outputs": [
    {
     "data": {
      "image/png": "[encoded data removed]",
      "text/plain": [
       "Graphics object consisting of 100 graphics primitives"
      ]
     },
     "execution_count": 43,
     "metadata": {},
     "output_type": "execute_result"
    }
   ],
   "source": [
    "v.plot_histogram(bins=100,normalize=False)"
   ]
  },
  {
   "cell_type": "code",
   "execution_count": 2,
   "metadata": {
    "collapsed": false,
    "scrolled": true
   },
   "outputs": [
    {
     "name": "stdout",
     "output_type": "stream",
     "text": [
      "[0, -1]\n",
      "4.00000000000000\n"
     ]
    },
    {
     "data": {
      "image/png": "[encoded data removed]",
      "text/plain": [
       "Graphics object consisting of 1 graphics primitive"
      ]
     },
     "execution_count": 2,
     "metadata": {},
     "output_type": "execute_result"
    }
   ],
   "source": [
    "#Ejercicio paseante aleatorio\n",
    "#Caminante no hay camino, se hace camino al andar\n",
    "x = [0, 0]\n",
    "direccion = randint(0,3)\n",
    "if direccion == 0:\n",
    "    x[0] = x[0]+1;\n",
    "if direccion == 1:\n",
    "    x[1] = x[1]+1;\n",
    "if direccion == 2:\n",
    "    x[0] = x[0]-1;\n",
    "if direccion == 3:\n",
    "    x[1] = x[1]-1;\n",
    "print x\n",
    "Nit = 1\n",
    "distancia = sqrt(x[0]**2 + x[1]**2)\n",
    "\n",
    "L=[(0,0), (x[0], x[1])]\n",
    "\n",
    "while(x!=[0,0]):\n",
    "    direccion = randint(0,3)\n",
    "    if direccion == 0:\n",
    "        x[0] = x[0]+1;\n",
    "    if direccion == 1:\n",
    "        x[1] = x[1]+1;\n",
    "    if direccion == 2:\n",
    "        x[0] = x[0]-1;\n",
    "    if direccion == 3:\n",
    "        x[1] = x[1]-1;\n",
    "    L.append((x[0], x[1]))\n",
    "    #print x\n",
    "    distancia = distancia + sqrt(x[0]**2 + x[1]**2)\n",
    "distanciaMedia = distancia / Nit\n",
    "print distanciaMedia.n()\n",
    "points(L)\n"
   ]
  },
  {
   "cell_type": "markdown",
   "metadata": {
    "collapsed": true
   },
   "source": [
    "MILLER RABIN"
   ]
  },
  {
   "cell_type": "code",
   "execution_count": 3,
   "metadata": {
    "collapsed": false
   },
   "outputs": [],
   "source": [
    "def carmichaelMenorQue(N):\n",
    "    L=[]\n",
    "    flag = 0\n",
    "    for int in xrange(N):\n",
    "        flag = 0\n",
    "        \n",
    "    return L\n"
   ]
  },
  {
   "cell_type": "code",
   "execution_count": 58,
   "metadata": {
    "collapsed": false
   },
   "outputs": [],
   "source": [
    "def miller_rabin(n, p):\n",
    "    prob = 1\n",
    "    a = n\n",
    "    s = 0\n",
    "    d = n-1\n",
    "    Nit = 0\n",
    "    while d % 2 == 0:\n",
    "        s, d = s+1, d/2\n",
    "        \n",
    "    while(prob>p):\n",
    "        Nit = Nit +1\n",
    "        a = n;\n",
    "        while(GCD(a, n)>1):\n",
    "            a = randint(1, n)\n",
    "        if(((a**d)%n)!=1):\n",
    "            flag = 0\n",
    "            for int in xrange(s):\n",
    "                if((a**((2**int)*d))%n) == n-1:\n",
    "                    flag = 1\n",
    "                    break\n",
    "            if flag==0:\n",
    "                return false\n",
    "        prob = prob * 1/4\n",
    "        \n",
    "    return true"
   ]
  },
  {
   "cell_type": "code",
   "execution_count": 59,
   "metadata": {
    "collapsed": false
   },
   "outputs": [
    {
     "name": "stdout",
     "output_type": "stream",
     "text": [
      "2\n"
     ]
    }
   ],
   "source": [
    "prim = random_prime(20,10)\n",
    "print prim"
   ]
  },
  {
   "cell_type": "code",
   "execution_count": 73,
   "metadata": {
    "collapsed": false,
    "scrolled": false
   },
   "outputs": [
    {
     "name": "stdout",
     "output_type": "stream",
     "text": [
      "[False, False, False, False, False, False, False, False, False, False, False, False, False, False, False, False, False, False, False, False, False, False, False, False, False]\n"
     ]
    }
   ],
   "source": [
    "L = []\n",
    "for i in srange(25):\n",
    "    L.append(miller_rabin(randint(1000,2000)*randint(1000,2000), 0.0005))\n",
    "print L"
   ]
  },
  {
   "cell_type": "code",
   "execution_count": 68,
   "metadata": {
    "collapsed": false
   },
   "outputs": [
    {
     "data": {
      "text/plain": [
       "False"
      ]
     },
     "execution_count": 68,
     "metadata": {},
     "output_type": "execute_result"
    }
   ],
   "source": [
    "L = [false, false, false]\n",
    "any(L)"
   ]
  },
  {
   "cell_type": "code",
   "execution_count": 18,
   "metadata": {
    "collapsed": false
   },
   "outputs": [
    {
     "data": {
      "text/plain": [
       "0"
      ]
     },
     "execution_count": 18,
     "metadata": {},
     "output_type": "execute_result"
    }
   ],
   "source": [
    "4>>6"
   ]
  },
  {
   "cell_type": "code",
   "execution_count": 21,
   "metadata": {
    "collapsed": false
   },
   "outputs": [
    {
     "data": {
      "text/plain": [
       "192"
      ]
     },
     "execution_count": 21,
     "metadata": {},
     "output_type": "execute_result"
    }
   ],
   "source": [
    "3<<6"
   ]
  },
  {
   "cell_type": "code",
   "execution_count": 22,
   "metadata": {
    "collapsed": false
   },
   "outputs": [
    {
     "data": {
      "text/plain": [
       "24"
      ]
     },
     "execution_count": 22,
     "metadata": {},
     "output_type": "execute_result"
    }
   ],
   "source": [
    "192>>3"
   ]
  },
  {
   "cell_type": "code",
   "execution_count": 31,
   "metadata": {
    "collapsed": false
   },
   "outputs": [
    {
     "data": {
      "text/plain": [
       "1"
      ]
     },
     "execution_count": 31,
     "metadata": {},
     "output_type": "execute_result"
    }
   ],
   "source": [
    "bar_chart(L,width=0.1).show(xmin=400,xmax=600,ymin=0,ymax=0.04)"
   ]
  },
  {
   "cell_type": "markdown",
   "metadata": {
    "collapsed": true
   },
   "source": [
    "POLLARD p-1"
   ]
  },
  {
   "cell_type": "code",
   "execution_count": 9,
   "metadata": {
    "collapsed": true
   },
   "outputs": [],
   "source": [
    "def pollard(n, B):\n",
    "    L = prime_range(0,B)\n",
    "    M = 1\n",
    "    a = 0\n",
    "    for item in L:\n",
    "        M = M * item**(log(n)/log(item))\n",
    "    while (gcd(a,n)>1):\n",
    "        a = randint(0, n)\n",
    "    x=(a**M)-1\n",
    "    return gcd(x,n)"
   ]
  },
  {
   "cell_type": "code",
   "execution_count": 41,
   "metadata": {
    "collapsed": false,
    "scrolled": true
   },
   "outputs": [
    {
     "data": {
      "text/plain": [
       "1"
      ]
     },
     "execution_count": 41,
     "metadata": {},
     "output_type": "execute_result"
    }
   ],
   "source": [
    "pollard(21, 2)"
   ]
  },
  {
   "cell_type": "code",
   "execution_count": 40,
   "metadata": {
    "collapsed": false
   },
   "outputs": [
    {
     "data": {
      "text/plain": [
       "21"
      ]
     },
     "execution_count": 40,
     "metadata": {},
     "output_type": "execute_result"
    }
   ],
   "source": [
    "42/2"
   ]
  },
  {
   "cell_type": "code",
   "execution_count": null,
   "metadata": {
    "collapsed": true
   },
   "outputs": [],
   "source": []
  }
 ],
 "metadata": {
  "kernelspec": {
   "display_name": "SageMath 7.3",
   "language": "",
   "name": "sagemath"
  },
  "language_info": {
   "codemirror_mode": {
    "name": "ipython",
    "version": 2
   },
   "file_extension": ".py",
   "mimetype": "text/x-python",
   "name": "python",
   "nbconvert_exporter": "python",
   "pygments_lexer": "ipython2",
   "version": "2.7.10"
  }
 },
 "nbformat": 4,
 "nbformat_minor": 0
}
