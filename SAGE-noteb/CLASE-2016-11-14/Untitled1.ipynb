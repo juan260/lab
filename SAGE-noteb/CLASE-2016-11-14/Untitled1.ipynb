{
 "cells": [
  {
   "cell_type": "markdown",
   "metadata": {},
   "source": [
    "5. Dado un numero de Fibonacci bastante grande Fm queremos calcular el lugar que ocupa en la sucesi ́on, es decir, dado\n",
    "un F m queremos obtener el m.\n",
    "a) Define, usando la construccion iterativa de la sucesi ́on de Fibonacci, una funci ́on que reciba como argumento F m y\n",
    "devuelva m.\n",
    "b) Cuando m crece, el segundo sumando (de hecho es un restando) en el numerador del F m del ejercicio anterior tiende\n",
    "a cero. Explica el motivo.\n",
    "Entonces, F m es aproximadamente igual a φ m / 5, y esto podr ́ıa servir para calcular m dado un F m suficientemente\n",
    "grande. Implementa un tal m ́etodo, y estudia su grado de validez comparando los valores de m que produce para\n",
    "variados F m calculados a partir de emes dados."
   ]
  },
  {
   "cell_type": "code",
   "execution_count": 2,
   "metadata": {
    "collapsed": true
   },
   "outputs": [],
   "source": [
    "def potencia(A,n):\n",
    "  k = A.ncols()\n",
    "  if n == 0:\n",
    "      return identity_matrix(k)\n",
    "  elif n%2 == 0:\n",
    "      B = potencia(A,n//2)\n",
    "      return (B*B)\n",
    "  else:\n",
    "      B = potencia(A,(n-1)//2)\n",
    "      return (A*B*B)\n"
   ]
  },
  {
   "cell_type": "code",
   "execution_count": 3,
   "metadata": {
    "collapsed": true
   },
   "outputs": [],
   "source": [
    "A = matrix(ZZ,[[1,1],[1,0]])"
   ]
  },
  {
   "cell_type": "code",
   "execution_count": 4,
   "metadata": {
    "collapsed": true
   },
   "outputs": [],
   "source": [
    "def terminoEnFib(n):\n",
    "    for i in srange(0, n):\n",
    "        B = potencia(A, i)\n",
    "        if(B[0, 0]==n):\n",
    "            return i\n",
    "    return -1"
   ]
  },
  {
   "cell_type": "code",
   "execution_count": 6,
   "metadata": {
    "collapsed": false,
    "scrolled": true
   },
   "outputs": [
    {
     "name": "stdout",
     "output_type": "stream",
     "text": [
      "16\n"
     ]
    }
   ],
   "source": [
    "print terminoEnFib(1597)"
   ]
  },
  {
   "cell_type": "markdown",
   "metadata": {},
   "source": [
    "4. Llamamos ecuacion diofantica lineal con dos incognitas a una de la forma\n",
    "a · x + b · y = c,\n",
    "donde a, b, c son enteros dados, y x e y, las soluciones, deben ser tambien enteros tales que se cumple la ecuacion.\n",
    "El teorema de Bezout permite resolver esta clase de ecuaciones. Escribe codigo tal que dados los coeficientes a, b y c\n",
    "devuelva las infinitas soluciones de la ecuacion diofantica como una formula en funcion de un parametro k entero."
   ]
  },
  {
   "cell_type": "code",
   "execution_count": 7,
   "metadata": {
    "collapsed": true
   },
   "outputs": [],
   "source": [
    "\n",
    "def solve_diofantic(a, b, c):\n",
    "    mcd = mcd(a,b)\n",
    "    \n",
    "def mcd(a, b):\n",
    "    if(b>a):\n",
    "        return mcd(b, a)\n",
    "    m=a%b\n",
    "    while(1):\n",
    "        r=a%b\n",
    "        b=a//b\n",
    "        if(b==0):\n",
    "            return m\n",
    "        else:\n",
    "            m=r\n",
    "        "
   ]
  },
  {
   "cell_type": "code",
   "execution_count": 9,
   "metadata": {
    "collapsed": false
   },
   "outputs": [
    {
     "ename": "UnboundLocalError",
     "evalue": "local variable 'mcd' referenced before assignment",
     "output_type": "error",
     "traceback": [
      "\u001b[1;31m---------------------------------------------------------------------------\u001b[0m",
      "\u001b[1;31mUnboundLocalError\u001b[0m                         Traceback (most recent call last)",
      "\u001b[1;32m<ipython-input-9-43b4691c8717>\u001b[0m in \u001b[0;36m<module>\u001b[1;34m()\u001b[0m\n\u001b[1;32m----> 1\u001b[1;33m \u001b[1;32mprint\u001b[0m \u001b[0mmcd\u001b[0m\u001b[1;33m(\u001b[0m\u001b[0mInteger\u001b[0m\u001b[1;33m(\u001b[0m\u001b[1;36m4\u001b[0m\u001b[1;33m)\u001b[0m\u001b[1;33m,\u001b[0m\u001b[0mInteger\u001b[0m\u001b[1;33m(\u001b[0m\u001b[1;36m6\u001b[0m\u001b[1;33m)\u001b[0m\u001b[1;33m)\u001b[0m\u001b[1;33m\u001b[0m\u001b[0m\n\u001b[0m",
      "\u001b[1;32m<ipython-input-7-3778c48addea>\u001b[0m in \u001b[0;36mmcd\u001b[1;34m(a, b)\u001b[0m\n\u001b[0;32m      5\u001b[0m \u001b[1;32mdef\u001b[0m \u001b[0mmcd\u001b[0m\u001b[1;33m(\u001b[0m\u001b[0ma\u001b[0m\u001b[1;33m,\u001b[0m \u001b[0mb\u001b[0m\u001b[1;33m)\u001b[0m\u001b[1;33m:\u001b[0m\u001b[1;33m\u001b[0m\u001b[0m\n\u001b[0;32m      6\u001b[0m     \u001b[1;32mif\u001b[0m\u001b[1;33m(\u001b[0m\u001b[0mb\u001b[0m\u001b[1;33m>\u001b[0m\u001b[0ma\u001b[0m\u001b[1;33m)\u001b[0m\u001b[1;33m:\u001b[0m\u001b[1;33m\u001b[0m\u001b[0m\n\u001b[1;32m----> 7\u001b[1;33m         \u001b[1;32mreturn\u001b[0m \u001b[0mmcd\u001b[0m\u001b[1;33m(\u001b[0m\u001b[0mb\u001b[0m\u001b[1;33m,\u001b[0m \u001b[0ma\u001b[0m\u001b[1;33m)\u001b[0m\u001b[1;33m\u001b[0m\u001b[0m\n\u001b[0m\u001b[0;32m      8\u001b[0m     \u001b[0mmcd\u001b[0m\u001b[1;33m=\u001b[0m\u001b[0ma\u001b[0m\u001b[1;33m%\u001b[0m\u001b[0mb\u001b[0m\u001b[1;33m\u001b[0m\u001b[0m\n\u001b[0;32m      9\u001b[0m     \u001b[1;32mwhile\u001b[0m\u001b[1;33m(\u001b[0m\u001b[0mInteger\u001b[0m\u001b[1;33m(\u001b[0m\u001b[1;36m1\u001b[0m\u001b[1;33m)\u001b[0m\u001b[1;33m)\u001b[0m\u001b[1;33m:\u001b[0m\u001b[1;33m\u001b[0m\u001b[0m\n",
      "\u001b[1;31mUnboundLocalError\u001b[0m: local variable 'mcd' referenced before assignment"
     ]
    }
   ],
   "source": [
    "print mcd(4,6)"
   ]
  },
  {
   "cell_type": "code",
   "execution_count": null,
   "metadata": {
    "collapsed": true
   },
   "outputs": [],
   "source": []
  }
 ],
 "metadata": {
  "kernelspec": {
   "display_name": "SageMath 7.3",
   "language": "",
   "name": "sagemath"
  },
  "language_info": {
   "codemirror_mode": {
    "name": "ipython",
    "version": 2
   },
   "file_extension": ".py",
   "mimetype": "text/x-python",
   "name": "python",
   "nbconvert_exporter": "python",
   "pygments_lexer": "ipython2",
   "version": "2.7.10"
  }
 },
 "nbformat": 4,
 "nbformat_minor": 0
}
