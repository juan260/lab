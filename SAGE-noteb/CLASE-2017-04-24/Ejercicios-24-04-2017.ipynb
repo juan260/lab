{
 "cells": [
  {
   "cell_type": "markdown",
   "metadata": {},
   "source": [
    "<h4>Ejercicio 1</h4>\n",
    "<p> Calcula, experimentalmente,</span> la probabilidad de que al lanzar dos dados se obtenga una suma de &nbsp;puntos de al menos $10$ y adem&aacute;s, lanzado un tercer dado, la suma total de los puntos alcance al menos $15$ &nbsp;puntos.</p>"
   ]
  },
  {
   "cell_type": "markdown",
   "metadata": {},
   "source": [
    "<h4>Ejercicio 2</h4>\n",
    "<p>En algunos sistemas criptogr&aacute;ficos, en particular en RSA, utilizamos como clave p&uacute;blica el producto de dos primos muy grandes. Decimos que un entero es <strong><span style=\"color: #000000;\">semiprimo</span></strong> si su factorizaci&oacute;n consiste en dos primos, diferentes o iguales &nbsp;(es decir, son enteros de la forma $n=p.q$ o bien &nbsp;$n=p^2$ con $p$ y $q$ primos).&nbsp;</p>\n",
    "<ol>\n",
    "<li><span style=\"color: #ff0000;\">Define</span> una funci&oacute;n $semip1(R)$ que cuente el n&uacute;mero de semiprimos en el intervalo $[1,R]$. Podemos decir que la <strong>densidad de los semiprimos</strong> en el intervalo&nbsp;&nbsp;$[1,R]$ es&nbsp;&nbsp;$semip1(R)/R$, que tambi&eacute;n podemos interpretar como<strong> la probabilidad de que un entero elegido al azar en el intervalo&nbsp;$[1,R]$ sea semiprimo</strong>.</li>\n",
    "<li><span style=\"color: #ff0000;\">&nbsp;Calcula</span> la densidad y el tiempo de c&aacute;lculo de la funci&oacute;n anterior &nbsp;con $R=10^4,10^5,10^6,10^7$. En este &uacute;ltimo caso el c&aacute;lculo puede durar del orden de $200$ segundos, y si tarda mucho m&aacute;s puedes reducir el valor de $R$ , por ejemplo a la mitad . <span style=\"color: #ff0000;\">&iquest;C&oacute;mo depende el tiempo de $R$?</span></li>\n",
    "<li>Los tiempos obtenidos en el apartado anterior nos parecen demasiado altos y decidimos probar a calcular la densidad &nbsp;eligiendo al azar un n&uacute;mero $N$ de enteros en el intervalo&nbsp;$[1,R]$ y contando cu&aacute;ntos son semiprimos. Para los valores de $R$ del apartado anterior, calcula tiempos y densidades mediante una <span style=\"color: #ff0000;\">funci&oacute;n $semip2(R,N)$ que debes definir</span>, &nbsp;y estudia c&oacute;mo conseguir una buena aproximaci&oacute;n a la densidad sin hacer $N$ demasiado grande. Es claro que si $N$ est&aacute; pr&oacute;ximo a $R$ las dos funciones hacen casi lo mismo y tardar&aacute;n tiempos similares, y lo que queremos es, por ejemplo, calcular dos cifras decimales correctas de la densidad con el \"m&iacute;nimo\" $N$, lo que va a hacer que el tiempo sea tambi&eacute;n \"m&iacute;nimo\". <span style=\"color: #ff0000; background-color: #ffffff;\">No se trata de calcular con toda precisi&oacute;n un $N$ m&iacute;nimo</span> (no tendr&iacute;a mucho sentido porque cada vez que ejecutamos la funci&oacute;n obtenemos resultados diferentes) sino de obtener una idea correcta del orden de magnitud &nbsp;del $N$ m&iacute;nimo, en funci&oacute;n de $R$, &nbsp;con el que conseguimos la precisi&oacute;n deseada. &nbsp; &nbsp;</li>\n",
    "</ol>"
   ]
  },
  {
   "cell_type": "markdown",
   "metadata": {},
   "source": [
    "<h4>Ejercicio 3</h4>\n",
    "<p>(6 puntos) Supongamos que para cubrir un puesto de trabajo hay $n$ candidatos que deben <br />ser entrevistados para decidir cu&aacute;l de ellos obtendr&aacute; el puesto. Las <br />condiciones del problema son las siguientes:</p>\n",
    "<ol>\n",
    "<li>El n&uacute;mero $n$ de candidatos es conocido al comenzar el proceso de&nbsp;<br />selecci&oacute;n.</li>\n",
    "<li>Si entrevist&aacute;ramos a todos los candidatos los podr&iacute;amos ordenar&nbsp;<br />de mejor a peor sin empates.&nbsp;</li>\n",
    "<li>Los candidatos son entrevistados de uno en uno y en orden aleatorio, con&nbsp;<br />cada una de las $n!$ posibles ordenaciones elegida con probabilidad $1/n!.$</li>\n",
    "<li>\n",
    "<p>Despu&eacute;s de cada entrevista el candidato es aceptado o rechazado, y&nbsp;<br />esta decisi&oacute;n es irrevocable.</p>\n",
    "</li>\n",
    "<li>\n",
    "<p>La estrategia que utilizamos consiste en entrevistar a un cierto&nbsp;<br />n&uacute;mero $r\\le n$ de candidatos y elegir al siguiente entrevistado que es mejor que&nbsp;<br />los $r$ primeros. Si no existe elegimos al &uacute;ltimo aunque no ser&aacute; el mejor. &nbsp;Se puede demostrar que esta estrategia es &oacute;ptima.&nbsp;</p>\n",
    "</li>\n",
    "</ol>\n",
    "<p>Representamos cada repetici&oacute;n del experimento \"se presentan $n$ candidatos en orden aleatorio\" como una permutaci&oacute;n aleatoria de los enteros $1,2,3,\\dots,n$ y suponemos que $n$ es el mejor y $1$ el peor.&nbsp;</p>\n",
    "\n",
    "<p><span style=\"color: #ff0000;\">Define una funci&oacute;n $probabilidad(n,N)$</span> que nos devuelva el valor de $r$ que hace m&aacute;xima la probabilidad de elegir al mejor candidato cuando hay $n$ candidatos y la probabilidad m&aacute;xima obtenida. El segundo par&aacute;metro $N$ es el el n&uacute;mero de vueltas del bucle que usamos para calcular (experimentalmente) las probabilidades, &nbsp;y debe ser suficientemente grande para que las probabilidades tengan, al menos, un par de decimales \"correctos\" y no tan grande que el programa tarde demasiado. Cuando $n$ tiende a infinito, <span style=\"color: #ff0000;\">&iquest;qu&eacute; l&iacute;mite parece tener la probabilidad m&aacute;xima?&nbsp;</span></p>\n"
   ]
  },
  {
   "cell_type": "markdown",
   "metadata": {},
   "source": [
    "\n",
    "<h4>Ejercicio 4</h4>\n",
    "<p> Consideramos un tablero infinito (en la pr&aacute;ctica ser&aacute; muy grande porque infinito no lo podemos hacer en el ordenador) bidimensional que representamos mediante los puntos de coordenadas enteras del cuadrado $T_N:=[0,2N]\\times[0,2N]\\subset \\mathbb{R}^2$ . El estado del tablero es entonces una matriz cuadrada de ceros y unos cuyos &iacute;ndices van de $0$ a $2N$. En el instante $t=0$ &nbsp;la &uacute;nica casilla negra es la central correspondiente al punto $(N,N)$. En cada instante de tiempo $t$ llamamos $X_t$ al conjunto de todas las casillas negras en ese instante y $V_t$ al conjunto de todas las casillas blancas que comparten un lado con una casilla negra. &nbsp;Obtenemos $X_{t+1}$ eligiendo al azar una casilla de $V_t$ y cambiando su color a negro.&nbsp;</p>\n",
    "<p>Nos interesa estudiar el aspecto de $X_t$ para $t$ muy grande (por ejemplo, $t=10^5,10^6$). &nbsp;<span style=\"color: #ff0000;\">Define una funci&oacute;n $tablero(t,N)$</span>&nbsp;(teniendo <span style=\"color: #ff0000;\">cuidado</span> de no saturar la RAM) que devuelva un estado&nbsp;$X_t$ del tablero obtenido mediante las reglas indicadas. <span style=\"color: #ff0000;\">Representa gr&aacute;ficamente</span> el tablero devuelto por la funci&oacute;n. El tama&ntilde;o del tablero debe ser suficientemente grande para que quede una zona totalmente blanca cerca del borde del tablero. <span style=\"color: #ff0000;\">Compara las gr&aacute;ficas</span> para $t=100,200,300,1000$ con las que se obtienen para $t$ muy grande, &iquest;qu&eacute; observas?</p>"
   ]
  },
  {
   "cell_type": "code",
   "execution_count": null,
   "metadata": {
    "collapsed": true
   },
   "outputs": [],
   "source": []
  }
 ],
 "metadata": {
  "kernelspec": {
   "display_name": "SageMath 7.3",
   "language": "",
   "name": "sagemath"
  },
  "language_info": {
   "codemirror_mode": {
    "name": "ipython",
    "version": 2
   },
   "file_extension": ".py",
   "mimetype": "text/x-python",
   "name": "python",
   "nbconvert_exporter": "python",
   "pygments_lexer": "ipython2",
   "version": "2.7.10"
  }
 },
 "nbformat": 4,
 "nbformat_minor": 0
}
