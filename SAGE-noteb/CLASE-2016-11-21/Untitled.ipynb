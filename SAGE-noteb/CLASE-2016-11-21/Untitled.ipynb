{
 "cells": [
  {
   "cell_type": "markdown",
   "metadata": {},
   "source": [
    "Pagina 144:\n",
    "Ejercicio 8.\n",
    "1. Programa una funci ́\n",
    "on, o varias, para calcular el desarrollo decimal de una fracci ́on n/d reducida cualquiera."
   ]
  },
  {
   "cell_type": "code",
   "execution_count": 39,
   "metadata": {
    "collapsed": false
   },
   "outputs": [],
   "source": [
    "def desDec(a, b):\n",
    "    if(a>b):\n",
    "        c=a//b\n",
    "        return desDec(c, b)\n",
    "    elif(a==b):\n",
    "        return 1\n",
    "    elif(a==1):\n",
    "        return 0\n",
    "    elif(b==1):    \n",
    "        return 0\n",
    "    else:\n",
    "        fa=list(factor(a))\n",
    "        fb=list(factor(b))\n",
    "        if(len(fa)==2):\n",
    "            if(2**fa[0][1]*5**fa[1][1]==a):\n",
    "                if(len(fa)==2):\n",
    "                    if(len(fb)==2 & 2**fb[0][1]*5**fb[1][1]==b):\n",
    "                        #Estamos en el caso 2\n",
    "                        print \"caso 2\"\n",
    "                \n",
    "                elif(2**fb[0][1]==b):\n",
    "                    #Estamos en el caso 2\n",
    "                    print \"caso 2\"    \n",
    "                elif(5**fb[0][1]==b):\n",
    "                    #Estamos en el caso 2\n",
    "                    print \"caso 2\"    \n",
    "        if(len(fb)==2):        \n",
    "            if(2**fb[0][1]*5**fb[1][1]==b):\n",
    "                if(len(fa)==2):\n",
    "                    if(2**fa[0][1]*5**fa[1][1]==a):\n",
    "                        #Estamos en el caso 2\n",
    "                        print \"caso 2\"\n",
    "    \n",
    "                elif(2**fa[0][1]==a):\n",
    "                    #Estamos en el caso 2\n",
    "                    print \"caso 2\"    \n",
    "                elif(5**fa[0][1]==a):\n",
    "                    #Estamos en el caso 2\n",
    "                    print \"caso 2\"\n",
    "        return 0"
   ]
  },
  {
   "cell_type": "code",
   "execution_count": 40,
   "metadata": {
    "collapsed": false
   },
   "outputs": [
    {
     "name": "stdout",
     "output_type": "stream",
     "text": [
      "caso 2\n"
     ]
    },
    {
     "data": {
      "text/plain": [
       "0"
      ]
     },
     "execution_count": 40,
     "metadata": {},
     "output_type": "execute_result"
    }
   ],
   "source": [
    "desDec(2, 10)"
   ]
  },
  {
   "cell_type": "code",
   "execution_count": null,
   "metadata": {
    "collapsed": true
   },
   "outputs": [],
   "source": []
  }
 ],
 "metadata": {
  "kernelspec": {
   "display_name": "SageMath 7.3",
   "language": "",
   "name": "sagemath"
  },
  "language_info": {
   "codemirror_mode": {
    "name": "ipython",
    "version": 2
   },
   "file_extension": ".py",
   "mimetype": "text/x-python",
   "name": "python",
   "nbconvert_exporter": "python",
   "pygments_lexer": "ipython2",
   "version": "2.7.10"
  }
 },
 "nbformat": 4,
 "nbformat_minor": 0
}
