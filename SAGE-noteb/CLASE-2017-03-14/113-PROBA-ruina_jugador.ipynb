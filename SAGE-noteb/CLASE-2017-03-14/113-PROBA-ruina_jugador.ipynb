{
 "cells": [
  {
   "cell_type": "markdown",
   "metadata": {},
   "source": [
    "<h3>Binomial</h3>\n",
    "<p>Vimos el d&iacute;a pasado que la probabilidad de obtener exactamente $k$ caras al lanzar una moneda, con probabilidad $p$ de cara en cada lanzamiento, es</p>\n",
    "<p>$$B(n,k):=\\binom{n}{k}p^k(1-p)^{n-k}.$$</p>"
   ]
  },
  {
   "cell_type": "code",
   "execution_count": 1,
   "metadata": {
    "collapsed": false
   },
   "outputs": [],
   "source": [
    "L = [(binomial(1000,n)*(1/2)^n*(1/2)^(1000-n)).n() for n in srange(0,1001)]"
   ]
  },
  {
   "cell_type": "code",
   "execution_count": 2,
   "metadata": {
    "collapsed": false
   },
   "outputs": [
    {
     "data": {
      "image/png": "[encoded data removed]",
      "text/plain": [
       "Graphics object consisting of 1 graphics primitive"
      ]
     },
     "metadata": {},
     "output_type": "display_data"
    }
   ],
   "source": [
    "bar_chart(L,width=0.1).show(xmin=400,xmax=600,ymin=0,ymax=0.04)"
   ]
  },
  {
   "cell_type": "code",
   "execution_count": 3,
   "metadata": {
    "collapsed": false
   },
   "outputs": [
    {
     "data": {
      "text/plain": [
       "500.000000000000"
      ]
     },
     "execution_count": 3,
     "metadata": {},
     "output_type": "execute_result"
    }
   ],
   "source": [
    "media = (sum([k*L[k] for k in srange(len(L))])).n();media"
   ]
  },
  {
   "cell_type": "code",
   "execution_count": 4,
   "metadata": {
    "collapsed": false
   },
   "outputs": [
    {
     "name": "stdout",
     "output_type": "stream",
     "text": [
      "15.8113883008419\n",
      "250.000000000000\n"
     ]
    }
   ],
   "source": [
    "DS = sqrt(sum([((k-media)^2)*L[k] for k in srange(len(L))])).n();print DS;print DS^2"
   ]
  },
  {
   "cell_type": "markdown",
   "metadata": {},
   "source": [
    "<h3>Ruina del jugador</h3>"
   ]
  },
  {
   "cell_type": "code",
   "execution_count": 1,
   "metadata": {
    "collapsed": false
   },
   "outputs": [],
   "source": [
    "def moneda():\n",
    "    x = random()\n",
    "    if x <= 0.5:\n",
    "        return -1\n",
    "    else:\n",
    "        return 1"
   ]
  },
  {
   "cell_type": "code",
   "execution_count": 2,
   "metadata": {
    "collapsed": false
   },
   "outputs": [],
   "source": [
    "def ruina(N):\n",
    "    L = [N]\n",
    "    while N > 0:\n",
    "        N += moneda()\n",
    "        L.append(N)\n",
    "    return L"
   ]
  },
  {
   "cell_type": "code",
   "execution_count": null,
   "metadata": {
    "collapsed": false
   },
   "outputs": [],
   "source": [
    "L=ruina(10000); len(L)"
   ]
  },
  {
   "cell_type": "code",
   "execution_count": null,
   "metadata": {
    "collapsed": false
   },
   "outputs": [],
   "source": [
    "LL=zip(srange(len(L)),L)"
   ]
  },
  {
   "cell_type": "code",
   "execution_count": null,
   "metadata": {
    "collapsed": false
   },
   "outputs": [],
   "source": [
    "line(LL).show()"
   ]
  },
  {
   "cell_type": "markdown",
   "metadata": {},
   "source": [
    "<p>Tiempo que tardamos en arruinarnos:</p>"
   ]
  },
  {
   "cell_type": "code",
   "execution_count": 11,
   "metadata": {
    "collapsed": false
   },
   "outputs": [],
   "source": [
    "def ruina_len(N):\n",
    "    cont = 1\n",
    "    while N > 0:\n",
    "        N += moneda()\n",
    "        cont += 1\n",
    "    return cont"
   ]
  },
  {
   "cell_type": "code",
   "execution_count": 12,
   "metadata": {
    "collapsed": false
   },
   "outputs": [],
   "source": [
    "RUINA = [ruina_len(20) for int in srange(100)]"
   ]
  },
  {
   "cell_type": "code",
   "execution_count": 13,
   "metadata": {
    "collapsed": false
   },
   "outputs": [
    {
     "data": {
      "text/plain": [
       "8060.26000000000"
      ]
     },
     "execution_count": 13,
     "metadata": {},
     "output_type": "execute_result"
    }
   ],
   "source": [
    "(sum(RUINA)/100).n()"
   ]
  },
  {
   "cell_type": "code",
   "execution_count": 14,
   "metadata": {
    "collapsed": false
   },
   "outputs": [
    {
     "data": {
      "text/plain": [
       "[56487.0000000000,\n",
       " 1768.20000000000,\n",
       " 35144.4000000000,\n",
       " 91305.8000000000,\n",
       " 20555.9000000000]"
      ]
     },
     "execution_count": 14,
     "metadata": {},
     "output_type": "execute_result"
    }
   ],
   "source": [
    "RUINA2 = [(sum([ruina_len(20) for int in srange(20)])/20).n() for int2 in srange(5)];RUINA2"
   ]
  },
  {
   "cell_type": "markdown",
   "metadata": {},
   "source": [
    "<p>En promedio, &iquest;cu&aacute;nto tarda en arruinarse el jugador?</p>\n",
    "<h3>Jugador precavido</h3>\n",
    "<p>AHORA fijamos un tope superior, es decir el jugador abandona cuando llega a un cierto valor de su 'riqueza':</p>"
   ]
  },
  {
   "cell_type": "code",
   "execution_count": 15,
   "metadata": {
    "collapsed": false
   },
   "outputs": [],
   "source": [
    "def ruina_s(N,M):\n",
    "    #L = [N]\n",
    "    while M > N > 0:\n",
    "        N += moneda()\n",
    "    #   L.append(N)\n",
    "    return N,M"
   ]
  },
  {
   "cell_type": "code",
   "execution_count": 16,
   "metadata": {
    "collapsed": false
   },
   "outputs": [
    {
     "data": {
      "text/plain": [
       "(1100, 1100)"
      ]
     },
     "execution_count": 16,
     "metadata": {},
     "output_type": "execute_result"
    }
   ],
   "source": [
    "ruina_s(100,1100)"
   ]
  },
  {
   "cell_type": "code",
   "execution_count": 17,
   "metadata": {
    "collapsed": false
   },
   "outputs": [],
   "source": [
    "def prob_no_ruina(N,M,R):\n",
    "    cont = 0\n",
    "    for int in srange(R):\n",
    "            ruina,exito=ruina_s(N,M)\n",
    "            if ruina != 0:\n",
    "                cont += 1\n",
    "    return (cont/R).n()"
   ]
  },
  {
   "cell_type": "code",
   "execution_count": 18,
   "metadata": {
    "collapsed": false
   },
   "outputs": [
    {
     "data": {
      "text/plain": [
       "0.908900000000000"
      ]
     },
     "execution_count": 18,
     "metadata": {},
     "output_type": "execute_result"
    }
   ],
   "source": [
    "prob_no_ruina(100,110,10000)"
   ]
  },
  {
   "cell_type": "code",
   "execution_count": 19,
   "metadata": {
    "collapsed": false
   },
   "outputs": [],
   "source": [
    "LL=[(100+k*10,prob_no_ruina(100,100+k*10,1000)) for k in srange(10)]"
   ]
  },
  {
   "cell_type": "code",
   "execution_count": 20,
   "metadata": {
    "collapsed": false
   },
   "outputs": [
    {
     "data": {
      "image/png": "[encoded data removed]",
      "text/plain": [
       "Graphics object consisting of 1 graphics primitive"
      ]
     },
     "metadata": {},
     "output_type": "display_data"
    }
   ],
   "source": [
    "points(LL).show()"
   ]
  },
  {
   "cell_type": "code",
   "execution_count": 21,
   "metadata": {
    "collapsed": false
   },
   "outputs": [],
   "source": [
    "var('AA BB')\n",
    "modelo(X)=AA+BB/X"
   ]
  },
  {
   "cell_type": "code",
   "execution_count": 22,
   "metadata": {
    "collapsed": false
   },
   "outputs": [
    {
     "data": {
      "text/plain": [
       "{AA: 0.013539416923958734, BB: 98.16202758749334}"
      ]
     },
     "execution_count": 22,
     "metadata": {},
     "output_type": "execute_result"
    }
   ],
   "source": [
    "find_fit(LL,modelo,solution_dict=True)"
   ]
  },
  {
   "cell_type": "code",
   "execution_count": 23,
   "metadata": {
    "collapsed": false
   },
   "outputs": [
    {
     "data": {
      "text/plain": [
       "[1.00000000000000,\n",
       " 0.909090909090909,\n",
       " 0.833333333333333,\n",
       " 0.769230769230769,\n",
       " 0.714285714285714,\n",
       " 0.666666666666667,\n",
       " 0.625000000000000,\n",
       " 0.588235294117647,\n",
       " 0.555555555555556,\n",
       " 0.526315789473684,\n",
       " 0.500000000000000,\n",
       " 0.476190476190476,\n",
       " 0.454545454545455,\n",
       " 0.434782608695652,\n",
       " 0.416666666666667,\n",
       " 0.400000000000000,\n",
       " 0.384615384615385,\n",
       " 0.370370370370370,\n",
       " 0.357142857142857,\n",
       " 0.344827586206897]"
      ]
     },
     "execution_count": 23,
     "metadata": {},
     "output_type": "execute_result"
    }
   ],
   "source": [
    "[(100/(100+k*10)).n() for k in srange(20)]"
   ]
  },
  {
   "cell_type": "markdown",
   "metadata": {},
   "source": [
    "<h3>Casino limitado</h3>"
   ]
  },
  {
   "cell_type": "code",
   "execution_count": 27,
   "metadata": {
    "collapsed": false
   },
   "outputs": [],
   "source": [
    "def casino_limitado(RC,RJ):\n",
    "    while (RC>0 and RJ>0):\n",
    "        x = moneda()\n",
    "        if x == 1:\n",
    "            RJ += 1\n",
    "            RC -= 1\n",
    "        else:\n",
    "            RJ -= 1\n",
    "            RC += 1\n",
    "    return RC,RJ"
   ]
  },
  {
   "cell_type": "code",
   "execution_count": 28,
   "metadata": {
    "collapsed": false
   },
   "outputs": [
    {
     "data": {
      "text/plain": [
       "(300, 0)"
      ]
     },
     "execution_count": 28,
     "metadata": {},
     "output_type": "execute_result"
    }
   ],
   "source": [
    "casino_limitado(200,100)"
   ]
  },
  {
   "cell_type": "code",
   "execution_count": 29,
   "metadata": {
    "collapsed": false
   },
   "outputs": [],
   "source": [
    "def prob_ruina_jugador(RCI,RJI,R):\n",
    "    cont = 0\n",
    "    for muda in xrange(R):\n",
    "        rcasino,rjugador = casino_limitado(RCI,RJI)\n",
    "        if rjugador == 0:\n",
    "            cont += 1\n",
    "    return (cont/R).n()"
   ]
  },
  {
   "cell_type": "code",
   "execution_count": 30,
   "metadata": {
    "collapsed": false
   },
   "outputs": [
    {
     "data": {
      "text/plain": [
       "0.514000000000000"
      ]
     },
     "execution_count": 30,
     "metadata": {},
     "output_type": "execute_result"
    }
   ],
   "source": [
    "prob_ruina_jugador(100,100,1000)"
   ]
  },
  {
   "cell_type": "code",
   "execution_count": 31,
   "metadata": {
    "collapsed": false
   },
   "outputs": [
    {
     "data": {
      "text/plain": [
       "0.689000000000000"
      ]
     },
     "execution_count": 31,
     "metadata": {},
     "output_type": "execute_result"
    }
   ],
   "source": [
    "prob_ruina_jugador(200,100,1000)"
   ]
  },
  {
   "cell_type": "markdown",
   "metadata": {},
   "source": [
    "<p>&iquest;C&oacute;mo depende la probabilidad de ruina de las 'fortunas' iniciales?</p>"
   ]
  },
  {
   "cell_type": "code",
   "execution_count": 32,
   "metadata": {
    "collapsed": false
   },
   "outputs": [],
   "source": [
    "L3 = [(k*100,prob_ruina_jugador(k*100,100,1000)) for k in srange(1,10)]"
   ]
  },
  {
   "cell_type": "code",
   "execution_count": 33,
   "metadata": {
    "collapsed": false
   },
   "outputs": [
    {
     "data": {
      "image/png": "[encoded data removed]",
      "text/plain": [
       "Graphics object consisting of 1 graphics primitive"
      ]
     },
     "metadata": {},
     "output_type": "display_data"
    }
   ],
   "source": [
    "points(L3).show()"
   ]
  },
  {
   "cell_type": "markdown",
   "metadata": {},
   "source": [
    "<p>Cuando la riqueza del casino es mucho mayor que la del jugador, la probabilidad de ruina del jugador debe ser casi $1$. Ajustemos un modelo a los puntos hallados:</p>"
   ]
  },
  {
   "cell_type": "code",
   "execution_count": 38,
   "metadata": {
    "collapsed": false
   },
   "outputs": [],
   "source": [
    "var('B');modelo(X)=X/(X+B)"
   ]
  },
  {
   "cell_type": "code",
   "execution_count": 39,
   "metadata": {
    "collapsed": false
   },
   "outputs": [
    {
     "data": {
      "text/plain": [
       "{B: 99.52163102047531}"
      ]
     },
     "execution_count": 39,
     "metadata": {},
     "output_type": "execute_result"
    }
   ],
   "source": [
    "find_fit(L3,modelo,solution_dict=True)"
   ]
  },
  {
   "cell_type": "markdown",
   "metadata": {},
   "source": [
    "<p>Si llamamos $a$ a los fondos del casino al empezar el juego y $b$ a los del jugador debemos esperar una probabilidad de ruina del jugador igual a $a/(a+b)$, de forma que cuando la riqueza del casino es mucho mayor que la del jugador la ruina de &eacute;ste es casi segura.</p>"
   ]
  }
 ],
 "metadata": {
  "kernelspec": {
   "display_name": "SageMath 7.3",
   "language": "",
   "name": "sagemath"
  },
  "language_info": {
   "codemirror_mode": {
    "name": "ipython",
    "version": 2
   },
   "file_extension": ".py",
   "mimetype": "text/x-python",
   "name": "python",
   "nbconvert_exporter": "python",
   "pygments_lexer": "ipython2",
   "version": "2.7.10"
  }
 },
 "nbformat": 4,
 "nbformat_minor": 0
}
