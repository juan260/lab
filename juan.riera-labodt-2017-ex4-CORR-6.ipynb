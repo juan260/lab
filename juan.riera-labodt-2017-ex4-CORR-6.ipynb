{
 "cells": [
  {
   "cell_type": "markdown",
   "metadata": {},
   "source": [
    "1) <span style=\"color:red\"> Antes que nada, lee cuidadosamente estas instrucciones y las que aparecen en la hoja con la contraseña. </span>\n",
    "\n",
    "2) Cambia el nombre de este archivo sustituyendo \"nombre.apellido\" por los tuyos, tal como aparecen en tu dirección de correo electrónico de la UAM.\n",
    "\n",
    "3) Este archivo debe quedar en la carpeta \"ENTREGA...\" que está en el escritorio de tu cuenta de examen. Lo mejor es que esté en esa carpeta desde el comienzo del examen.\n",
    "\n",
    "4) El examen resuelto debe quedar en este único archivo. No se puede usar un archivo para cada pregunta.\n",
    "\n",
    "5) Recuerda que hay que deshabilitar el salvapantallas al comenzar el examen, tal como está indicado en la hoja con la contraseña. \n",
    "\n",
    "\n",
    "\n",
    "\n",
    "CALIFICACIÓN:\n"
   ]
  },
  {
   "cell_type": "code",
   "execution_count": 38,
   "metadata": {
    "collapsed": false
   },
   "outputs": [
    {
     "data": {
      "text/plain": [
       "6"
      ]
     },
     "execution_count": 38,
     "metadata": {},
     "output_type": "execute_result"
    }
   ],
   "source": [
    "4+2"
   ]
  },
  {
   "cell_type": "markdown",
   "metadata": {},
   "source": [
    "COMENTARIOS:\n",
    "\n",
    "1) Ej 2: Al final del archivo se aclara el motivo por el que tu cadena de markov consiste en el último punto alcanzado repetido $N$ veces. Este es un problema que ya apareció en clase (creo recordar)."
   ]
  },
  {
   "cell_type": "markdown",
   "metadata": {},
   "source": [
    "\n",
    "## Ejercicio 1\n",
    "\n",
    "Consideramos el siguiente 'juego': inicialmente hay $n$ jugadores  y en cada fase del juego cada jugador vivo elige **al azar** otro jugador vivo, distinto de sí mismo,  y lo mata.  El juego se repite hasta que queda un único jugador, *el elegido del destino*, o bien ninguno. En principio, es perfectamente posible que el juego se juegue una única vez.\n",
    "\n",
    "1) Estima, con dos cifras decimales 'correctas',  la probabilidad de que, partiendo de  $n=100$ jugadores, haya un superviviente. Como se indicó en clase, entendemos que que son cifras decimales 'correctas' las que no cambian cuando se incrementa suficientemente el número $N$ de 'casos posibles'.\n",
    "\n",
    "2) ¿Qué probabilidad tengo, si decido jugar con otros $99$ jugadores,  de ser yo el *elegido del destino*? Modifica el programa del apartado anterior para estimar la probabilidad y explica el resultado obtenido.\n",
    "\n",
    "3) Ahora queremos estudiar la duración del juego. Para eso debemos  calcular *promedios* de la duración. Define una función *promedio(n,N)* que calcule el promedio y la desviación estándar de la duración con $n$ jugadores iniciales y $N$ repeticiones del juego. Evalúa *promedio(100,10^5)* y comenta los resultados obtenidos.\n",
    "\n",
    "4) Finalmente, estudia la variación de los promedios al variar $n$ entre $10$ y $200$ saltando de $10$ en $10$. Realiza un gráfico de los resultados y analiza la dependencia funcional (el promedio como función de $n$). En este cuarto apartado probablemente tendrás que **elegir con más cuidado un $N$** (el número de repeticiones del juego utilizadas para calcular cada promedio) **adecuado**  dadas las capacidades bastante limitadas de la máquina. "
   ]
  },
  {
   "cell_type": "code",
   "execution_count": 70,
   "metadata": {
    "collapsed": true
   },
   "outputs": [],
   "source": [
    "#Esta funcion comprobará si se cumplen las condiciones para que se termine el juego.\n",
    "def terminaJuego(L):\n",
    "    vivos = 0\n",
    "    if(any(L)==0):\n",
    "        return true\n",
    "    \n",
    "    for i in L:\n",
    "        #Encontramos algún vivo\n",
    "        if i==1:\n",
    "            #Si ya habia algún vivo, el juego no termina\n",
    "            if(vivos==1):\n",
    "                return false\n",
    "            #Si este era el primer vivo, marcamos su existencia\n",
    "            vivos = 1\n",
    "    #Si no se han encontrado dos vivos o más el juego termina \n",
    "    return true"
   ]
  },
  {
   "cell_type": "code",
   "execution_count": null,
   "metadata": {
    "collapsed": false
   },
   "outputs": [],
   "source": []
  },
  {
   "cell_type": "code",
   "execution_count": 73,
   "metadata": {
    "collapsed": false
   },
   "outputs": [],
   "source": [
    "#Funcion que simula una partida del juego. Devuelve -1 si no quedó ninguno vivo y\n",
    "#la posición en la lista del superviviente si lo hubo en primer lugar, y el numero de\n",
    "#rondas total de la partida en segundo lugar.\n",
    "def juego(n):\n",
    "    L = [1]*n;\n",
    "    NRondas =0\n",
    "    \n",
    "    while(terminaJuego(L)==false):\n",
    "        #Cada vez que se ejecuta este while equivale a una ronda del juego\n",
    "        NRondas = NRondas + 1\n",
    "        #Este array almacenará la eleccion de cada jugador de la lista\n",
    "        eleccion = [0]*n;\n",
    "        for i in srange(n):\n",
    "            if L[i]==1:\n",
    "                eleccion[i]=randint(0, n-1)\n",
    "                #Si se ha elegido a si mismo o ha elegido a un jugador muerto debe elegir a otro\n",
    "                while(eleccion[i]==i or L[eleccion[i]]==0)==true:\n",
    "                    eleccion[i]=randint(0,n-1)\n",
    "        #Ejecutamos las elecciones de cada jugador\n",
    "        for elec in eleccion:\n",
    "            L[elec]=0;\n",
    "    \n",
    "    #Busquemos ahora al elegido del destino, si lo hay\n",
    "    for i in srange(n):\n",
    "        if(L[i]==1):\n",
    "            return i, NRondas\n",
    "    #Si llegamos hasta aquí es que no ha sobrevivido nadie\n",
    "    return -1, NRondas\n",
    "            "
   ]
  },
  {
   "cell_type": "markdown",
   "metadata": {},
   "source": [
    "Apartado 1:"
   ]
  },
  {
   "cell_type": "code",
   "execution_count": 74,
   "metadata": {
    "collapsed": false
   },
   "outputs": [
    {
     "name": "stdout",
     "output_type": "stream",
     "text": [
      "0.523500000000000\n",
      "0.528800000000000\n",
      "0.518333333333333\n"
     ]
    }
   ],
   "source": [
    "#Esta funcion recibe el numero de personas con las que realizar el experimento (n) y el número\n",
    "#de veces a repetirlo (rep), despues devuelve la probabilidad normalizada de que haya \n",
    "#un superviviente\n",
    "def Prob1Sup(n, rep):\n",
    "    veces = 0\n",
    "    partida = 0\n",
    "    NRondas = 0\n",
    "    for int in xrange(rep):\n",
    "        #Desechamos NRondas\n",
    "        partida, NRondas = juego(n)\n",
    "        if(partida!=(-1)):\n",
    "            veces = veces + 1\n",
    "    return veces/rep.n()\n",
    "\n",
    "\n",
    "print Prob1Sup(100, 2000)\n",
    "print Prob1Sup(100, 2500)\n",
    "print Prob1Sup(100, 3000)"
   ]
  },
  {
   "cell_type": "markdown",
   "metadata": {},
   "source": [
    "Como podemos observar, las dos primeras cifras decimales no cambian para los 3 valores de rep \n",
    "que hemos probado. Por tanto, podemos considerarlas como 'correctas'"
   ]
  },
  {
   "cell_type": "markdown",
   "metadata": {},
   "source": [
    "Apartado 2:"
   ]
  },
  {
   "cell_type": "code",
   "execution_count": 55,
   "metadata": {
    "collapsed": false
   },
   "outputs": [
    {
     "name": "stdout",
     "output_type": "stream",
     "text": [
      "0.00520000000000000\n",
      "0.00540000000000000\n",
      "0.00480000000000000\n"
     ]
    }
   ],
   "source": [
    "#Esta funcion recibe el numero de personas con las que realizar el experimento (n) y el número\n",
    "#de veces a repetirlo (rep), despues devuelve la probabilidad normalizada de que sea la persona 1\n",
    "#el único superviviente\n",
    "def Prob1Sup(n, rep):\n",
    "    veces = 0\n",
    "    partida = 0\n",
    "    NRondas = 0\n",
    "    for int in xrange(rep):\n",
    "        #Desechamos NRondas\n",
    "        partida, NRondas = juego(n)\n",
    "        if(partida==1):\n",
    "            veces = veces + 1\n",
    "    return veces/rep.n()\n",
    "\n",
    "\n",
    "print Prob1Sup(100, 10000)\n",
    "print Prob1Sup(100, 10000)\n",
    "print Prob1Sup(100, 10000)"
   ]
  },
  {
   "cell_type": "markdown",
   "metadata": {},
   "source": [
    "Vemos que la probabilidad es muchísimo mas baja y que además varía mucho más entre experimentos\n",
    "repetidos. Esto se debe a que, como hemos concluido en el apartado 1, hay algo mas del 50% de \n",
    "probabilidad de que haya un superviviente, de ese 50%, la probabilidad de que ese superviviente\n",
    "sea una persona concreta (en nuestro caso, la 1) es 100 veces menor (tantas como personas haya\n",
    "jugando en ese momento) porque tienen que darse dos sucesos independientes: que haya un super-\n",
    "viviente, y que sea el de la posición 1."
   ]
  },
  {
   "cell_type": "markdown",
   "metadata": {},
   "source": [
    "Apartado 3:"
   ]
  },
  {
   "cell_type": "code",
   "execution_count": 83,
   "metadata": {
    "collapsed": false
   },
   "outputs": [
    {
     "data": {
      "text/plain": [
       "(4.42498000000000, 0.514076494644935)"
      ]
     },
     "execution_count": 83,
     "metadata": {},
     "output_type": "execute_result"
    }
   ],
   "source": [
    "def promedio(n, N):\n",
    "    partida = 0\n",
    "    NRondas = 0\n",
    "    totalRondas = 0\n",
    "    L = []\n",
    "    for i in srange(N):\n",
    "        partida, NRondas = juego(n)\n",
    "        L.append(NRondas)\n",
    "        totalRondas = totalRondas + NRondas\n",
    "    return totalRondas/N.n(), sage.stats.basic_stats.std(L).n()\n",
    "\n",
    "promedio(100, 10**5)"
   ]
  },
  {
   "cell_type": "markdown",
   "metadata": {},
   "source": []
  },
  {
   "cell_type": "markdown",
   "metadata": {},
   "source": [
    "Apartado 4:"
   ]
  },
  {
   "cell_type": "code",
   "execution_count": 90,
   "metadata": {
    "collapsed": false
   },
   "outputs": [],
   "source": [
    "nPers = 10\n",
    "L = []\n",
    "media=0 \n",
    "stat=0\n",
    "\n",
    "while(nPers<=200):\n",
    "    media, stat = promedio(nPers, 100)\n",
    "    L.append(media)\n",
    "    nPers = nPers + 10\n"
   ]
  },
  {
   "cell_type": "code",
   "execution_count": 92,
   "metadata": {
    "collapsed": false,
    "scrolled": false
   },
   "outputs": [
    {
     "data": {
      "image/png": "[encoded data removed]",
      "text/plain": [
       "Graphics object consisting of 1 graphics primitive"
      ]
     },
     "metadata": {},
     "output_type": "display_data"
    }
   ],
   "source": [
    "bar_chart(L,width=0.1).show(xmin=0,xmax=10,ymin=0,ymax=10)"
   ]
  },
  {
   "cell_type": "markdown",
   "metadata": {},
   "source": [
    "## Ejercicio 2\n",
    "\n",
    "Hemos visto que es posible estimar el área de un disco unidad *lanzando dardos al cuadrado unidad y contando los que caen dentro del disco*. El mismo procedimiento permite, en principio,  estimar el volumen de la hiperesfera $\\mathbb{B}_n$  de radio $1$ en $\\mathbb{R}^n$ (i.e. el conjunto de puntos de coordenadas $(x_1,x_2,\\dots,x_n)\\in \\mathbb{R}^n$ tales que $x_1^2+x_2^2+\\dots+x_n^2\\le 1$), pero los volúmenes que vamos obteniendo al incrementar $n$ son cada vez más pequeños y bastante pronto obtenemos cero como respuesta. \n",
    "\n",
    "Ésto se debe a que, cuando $n$ es grande, muy pocos dardos caen dentro de la hiperesfera debido a que ocupa muy poco volumen con respecto al volumen, $2^n$,  del hipercubo unidad $[-1,1]^n$. En este ejercicio vemos una manera distinta de *lanzar dardos*, que nos va a asegurar que suficientes caen dentro de la hiperesfera. Denotemos por $V(n)$ el volumen de $\\mathbb{B}_n$, que es lo que  queremos calcular. \n",
    "\n",
    "### Descripción del método\n",
    "\n",
    "1) El *truco básico* consiste en considerar la hiperesfera de dimensión $n$  dentro del hipercilindro $\\mathbb{C}_n:=\\mathbb{B}_{n-1}\\times [-1,1]$, en lugar de dentro del hipercubo $[-1,1]^n$.  El volumen del hipercilindro es, gracias al teorema de Fubini del cálculo integral, igual al volumen de $\\mathbb{B}_{n-1}$ multiplicado por dos. \n",
    "\n",
    "2) En segundo lugar  observamos que para  obtener puntos aleatorios en el hipercilindro $\\mathbb{C}_n$ basta generar puntos aleatorios $(x_1,x_2,\\dots,x_{n-1})\\in \\mathbb{B}_{n-1}$ en la hiperesfera de dimensión $n-1$ y para cada uno producir un real aleatorio $x_n$ en el intervalo $[-1,1]$. \n",
    "\n",
    "3) Para que esto funcione debemos encontrar una **manera eficiente** de generar puntos aleatorios en la hiperesfera $\\mathbb{B}_{n-1}$,  y el método que vamos a usar se llama de  *cadena de Markov* (una especie de *paseo aleatorio generalizado*):\n",
    "\n",
    "A) El primer punto de la cadena $\\mathbf{x}_0$ es, por ejemplo,  el origen de coordenadas.\n",
    "    \n",
    "B) Para cada punto $\\mathbf{x}_t=(x_1,x_2,\\dots,x_{n-1})\\in \\mathbb{B}_{n-1}$  obtenemos un nuevo punto $\\mathbf{x}_{t+1}$ eligiendo una coordenada al azar, supongamos que hemos obtenido $x_i$,  y un real aleatorio $\\Delta$ en el  intervalo $[-\\delta,\\delta]$. Entonces, cambiamos $x_i$ por $x_i+\\Delta$ en $\\mathbf{x}$ y si todavía estamos dentro de la hiperesfera ese es el nuevo punto $\\mathbf{x}_{t+1}$ en la cadena. Si al hacer el cambio nos vamos fuera de la hiperesfera dejamos $\\mathbf{x}_{t+1}:=\\mathbf{x}_{t}$. \n",
    "\n",
    "C) La cadena $\\{\\mathbf{x}_0,\\mathbf{x}_1,\\dots,\\mathbf{x}_t,\\dots,\\mathbf{x}_N\\}$ es entonces un conjunto de $N+1$ puntos, todos en la hiperesfera $\\mathbb{B}_{n-1}$, y se puede demostrar que, para $N$ suficientemente grande,  están uniformemente distribuidos en la hiperesfera. \n",
    "\n",
    "4) Después de estos preparativos podemos ya plantear el cálculo del volumen  $V(n)$ de la hiperesfera $\\mathbb{B}_n$: \n",
    "\n",
    "Generamos un número muy grande $N$ de puntos en la hiperesfera de dimensión $n-1$, usando el apartado 3),  y para cada uno de ellos vamos calculando un punto en el hipercilindro, como en el apartado 2). Si el punto obtenido en el hipercilindro cae dentro de la hiperesfera  de dimensión $n$, $\\mathbb{B}_n$,  incrementamos un contador, al que por ejemplo hemos llamado *dentro*. \n",
    "\n",
    "La fracción $dentro/N$, calculada después de haber generado $N$ puntos del hipercilindro,   es aproximadamente igual al cociente de volúmenes $V(n)/(2V(n-1))$ (volumen de la hiperesfera dividido por volumen del hipercilindro). \n",
    "\n",
    "Entonces, podemos reducir el cálculo  de $V(n)$ al de $V(n-1)$, el de $V(n-1)$ al de $V(n-2)$, etc., hasta llegar al volumen de la hiperesfera en dimensión $1$ que es igual a dos. \n",
    "\n",
    "### Ejercicios\n",
    "\n",
    "2.1) Define las funciones necesarias para implementar esta forma, *Monte Carlo con cadenas de Markov*,  de calcular $V(n).$\n",
    "\n",
    "2.2) El volumen exacto de una hiperesfera se puede calcular mediante integrales, y se obtiene una fórmula que se indica en la celda siguiente:\n"
   ]
  },
  {
   "cell_type": "code",
   "execution_count": 97,
   "metadata": {
    "collapsed": false
   },
   "outputs": [],
   "source": [
    "def Vol_exacto(dim):\n",
    "    return (pi**(dim/2.0)/gamma(dim/2.0+1.0)).n()"
   ]
  },
  {
   "cell_type": "code",
   "execution_count": 4,
   "metadata": {
    "collapsed": false
   },
   "outputs": [
    {
     "name": "stdout",
     "output_type": "stream",
     "text": [
      "2.00000000000000\n",
      "3.14159265358979\n",
      "4.18879020478639\n",
      "2.36820210188283e-40\n"
     ]
    }
   ],
   "source": [
    "print Vol_exacto(1);print Vol_exacto(2); print Vol_exacto(3); print Vol_exacto(100)"
   ]
  },
  {
   "cell_type": "markdown",
   "metadata": {},
   "source": [
    "¿Para qué queremos estimar esos mismos volúmenes mediante Monte Carlo? Los resultados exactos sirven como control de las estimaciones, y,  en particular,  permiten ajustar de forma óptima los parámetros $N$ y $\\delta$. \n",
    "\n",
    "El parámetro $N$ debe ser suficientemente grande para obtener una precisión aceptable, pero no tan grande que tengamos que esperar una eternidad por el resultado, y el parámetro $\\delta$, un real que podemos esperar que esté entre cero y uno,  no puede ser muy pequeño,  porque entonces todos los puntos de la cadena están muy próximos entre sí y no rellenan bien la hiperesfera, ni muy grande porque entonces la cadena repite muchas veces sus valores. \n",
    "\n",
    " Queremos elegir los parámetros, $N$ y $\\delta$,  para calcular,  mediante Monte Carlo,  el volumen de la hiperesfera de dimensión $50$  de forma que al menos sea correcta la primera cifra decimal no nula (por supuesto, cuantas más cifras correctas obtengamos mejor). Tomamos $N=10^5$ y elegimos un $\\delta$ óptimo, dentro del intervalo $(0,1)$,   mediante experimentos adecuados. \n",
    "\n",
    "\n"
   ]
  },
  {
   "cell_type": "markdown",
   "metadata": {},
   "source": [
    "Apartado 2.1)"
   ]
  },
  {
   "cell_type": "code",
   "execution_count": 11,
   "metadata": {
    "collapsed": false
   },
   "outputs": [],
   "source": [
    "#Esta funcion comprueba que el punto que recibe está dentro de la hiperesfera de su dimensión\n",
    "def dentroHiperEsfera(p):\n",
    "    suma = 0\n",
    "    for i in p:\n",
    "        suma = suma + i**2\n",
    "    if suma>1:\n",
    "        return false\n",
    "    else:\n",
    "        return true\n",
    "\n",
    "#Esta función nos daría el siguiente punto en la cadena de Markov\n",
    "def otroPunto(p, delta):\n",
    "    #Elegimos una coordenada\n",
    "    coord = randint(0, len(p)-1)\n",
    "    #La siguiente instruccion calcula cuánto va a cambiar la coordenada\n",
    "    cambio = (random()*2*delta)-delta\n",
    "    p[coord] = p[coord]+cambio\n",
    "    return p\n",
    "    \n",
    "#Esta funcion calcula un array de puntos con el método del enunciado\n",
    "def markov(n, N, delta):\n",
    "    punto = [0]*n\n",
    "    puntos=[punto]\n",
    "    for muda in srange(N):\n",
    "        nuevoPunto = otroPunto(punto, delta)\n",
    "        #Si el nuevo punto está dentro de la hiperesfera actualizamos punto,\n",
    "        #si no, no lo actualizamos y metemos el punto anterior(como se indica \n",
    "        #el enunciado)\n",
    "        if dentroHiperEsfera(nuevoPunto):\n",
    "            punto = nuevoPunto\n",
    "        puntos.append(punto)\n",
    "    return puntos\n",
    "    \n",
    "    \n",
    "    "
   ]
  },
  {
   "cell_type": "code",
   "execution_count": 2,
   "metadata": {
    "collapsed": true
   },
   "outputs": [],
   "source": [
    "#Donde n es el numero de dimensiones, N el numero de puntos a utilizar y sigma \n",
    "#la variacion que puede tener una coordenada al calcular el siguiente punto.\n",
    "\n",
    "def VolHiperEsfera(n, N, delta):\n",
    "    #Obtenemos puntos de la hiperesfera de n-1\n",
    "    puntos = markov(n-1, N, delta);\n",
    "    dentro = 0\n",
    "    nuevaCoordenada = 0\n",
    "    for punto in puntos:\n",
    "        #Hallamos la suma de todas las coordenadas al cuadrado, y le sumamos la nueva coordenada\n",
    "        sumaCoordenadas = 0\n",
    "        for coord in punto:\n",
    "            sumaCoordenadas = sumaCoordenadas + coord**2\n",
    "        #Queremos que la nueva coordenada esté entre -1 y 1\n",
    "        nuevaCoordenada = random()*2-1\n",
    "        sumaCoordenadas = sumaCoordenadas + nuevaCoordenada**2\n",
    "        \n",
    "        #Si el punto formado por las coordenadas de 'punto' junto con la nuevaCoordenada\n",
    "        #está dentro de la hiperesfera, sumaCoordenadas tiene que ser menor o igual que 1.\n",
    "        if(sumaCoordenadas<=1):\n",
    "            dentro = dentro + 1\n",
    "    return dentro/N"
   ]
  },
  {
   "cell_type": "markdown",
   "metadata": {},
   "source": [
    "Apartado 2.2)"
   ]
  },
  {
   "cell_type": "code",
   "execution_count": 149,
   "metadata": {
    "collapsed": false,
    "scrolled": false
   },
   "outputs": [
    {
     "name": "stdout",
     "output_type": "stream",
     "text": [
      "0\n"
     ]
    },
    {
     "data": {
      "text/plain": [
       "0"
      ]
     },
     "execution_count": 149,
     "metadata": {},
     "output_type": "execute_result"
    }
   ],
   "source": [
    "VolHiperEsfera(50, 10**5, 0.4)"
   ]
  },
  {
   "cell_type": "markdown",
   "metadata": {
    "collapsed": true
   },
   "source": [
    "VolHiperEsfera devuelve 0, porque todos los puntos que obtiene quedan fuera de la hiperesfera,\n",
    "sin embargo, no se por qué ocurre esto, la funcion markov funciona correctamente y es la que\n",
    "se encarga de obtener esos puntos."
   ]
  },
  {
   "cell_type": "code",
   "execution_count": 3,
   "metadata": {
    "collapsed": false
   },
   "outputs": [
    {
     "data": {
      "image/png": "[encoded data removed]",
      "text/plain": [
       "Graphics object consisting of 1 graphics primitive"
      ]
     },
     "execution_count": 3,
     "metadata": {},
     "output_type": "execute_result"
    }
   ],
   "source": [
    "points(markov(2, 10**5,0.3))"
   ]
  },
  {
   "cell_type": "code",
   "execution_count": null,
   "metadata": {
    "collapsed": true
   },
   "outputs": [],
   "source": [
    "def markov(n, N, delta):\n",
    "    punto = [0]*n\n",
    "    puntos=[punto]\n",
    "    for muda in srange(N):\n",
    "        nuevoPunto = otroPunto(punto, delta)\n",
    "        #Si el nuevo punto está dentro de la hiperesfera actualizamos punto,\n",
    "        #si no, no lo actualizamos y metemos el punto anterior(como se indica \n",
    "        #el enunciado)\n",
    "        if dentroHiperEsfera(nuevoPunto):\n",
    "            punto = nuevoPunto\n",
    "            print punto,nuevoPunto\n",
    "        #print puntos\n",
    "        puntos.append(punto)\n",
    "    return puntos"
   ]
  },
  {
   "cell_type": "code",
   "execution_count": 12,
   "metadata": {
    "collapsed": false
   },
   "outputs": [
    {
     "name": "stdout",
     "output_type": "stream",
     "text": [
      "[0, -0.286765783414702] [0, -0.286765783414702]\n",
      "[0.299249028281867, -0.286765783414702] [0.299249028281867, -0.286765783414702]\n",
      "[0.325503220036838, -0.286765783414702] [0.325503220036838, -0.286765783414702]\n",
      "[0.325503220036838, -0.128497231531365] [0.325503220036838, -0.128497231531365]\n",
      "[0.325503220036838, -0.281203624506752] [0.325503220036838, -0.281203624506752]\n",
      "[0.0894529985721034, -0.281203624506752] [0.0894529985721034, -0.281203624506752]\n",
      "[0.0894529985721034, -0.563905963464127] [0.0894529985721034, -0.563905963464127]\n",
      "[0.0894529985721034, -0.401927936783445] [0.0894529985721034, -0.401927936783445]\n",
      "[-0.0282240141948704, -0.401927936783445] [-0.0282240141948704, -0.401927936783445]\n",
      "[0.183096648009328, -0.401927936783445] [0.183096648009328, -0.401927936783445]\n"
     ]
    },
    {
     "data": {
      "text/plain": [
       "[[0.183096648009328, -0.401927936783445],\n",
       " [0.183096648009328, -0.401927936783445],\n",
       " [0.183096648009328, -0.401927936783445],\n",
       " [0.183096648009328, -0.401927936783445],\n",
       " [0.183096648009328, -0.401927936783445],\n",
       " [0.183096648009328, -0.401927936783445],\n",
       " [0.183096648009328, -0.401927936783445],\n",
       " [0.183096648009328, -0.401927936783445],\n",
       " [0.183096648009328, -0.401927936783445],\n",
       " [0.183096648009328, -0.401927936783445],\n",
       " [0.183096648009328, -0.401927936783445]]"
      ]
     },
     "execution_count": 12,
     "metadata": {},
     "output_type": "execute_result"
    }
   ],
   "source": [
    "markov(2,10,0.3)"
   ]
  },
  {
   "cell_type": "markdown",
   "metadata": {},
   "source": [
    "## Discusión del error (rhg)\n",
    "\n",
    "Cuando cambiamos $L$ en la línea L[0] += 1 cambian todas las apariciones de $L$ en el código.  Esto se puede evitar pasando a tuplas, que son inmutables, o copiando la lista antes y después de modificarla. "
   ]
  },
  {
   "cell_type": "code",
   "execution_count": 13,
   "metadata": {
    "collapsed": true
   },
   "outputs": [],
   "source": [
    "def pruebita(n,N):\n",
    "    L = [0]*n\n",
    "    L1 = [L]\n",
    "    for int in xsrange(N):\n",
    "        L[0] += 1\n",
    "        L1.append(L)\n",
    "    return L1\n",
    "    "
   ]
  },
  {
   "cell_type": "code",
   "execution_count": 14,
   "metadata": {
    "collapsed": false
   },
   "outputs": [
    {
     "data": {
      "text/plain": [
       "[[10, 0],\n",
       " [10, 0],\n",
       " [10, 0],\n",
       " [10, 0],\n",
       " [10, 0],\n",
       " [10, 0],\n",
       " [10, 0],\n",
       " [10, 0],\n",
       " [10, 0],\n",
       " [10, 0],\n",
       " [10, 0]]"
      ]
     },
     "execution_count": 14,
     "metadata": {},
     "output_type": "execute_result"
    }
   ],
   "source": [
    "pruebita(2,10)"
   ]
  },
  {
   "cell_type": "code",
   "execution_count": 19,
   "metadata": {
    "collapsed": true
   },
   "outputs": [],
   "source": [
    "def pruebita2(n,N):\n",
    "    L = [0 for muda in srange(n)]\n",
    "    L1 = [L]\n",
    "    for int in xsrange(N):\n",
    "        print L,L1\n",
    "        L[0] += 1\n",
    "        L1.append(L)\n",
    "    return L1"
   ]
  },
  {
   "cell_type": "code",
   "execution_count": 20,
   "metadata": {
    "collapsed": false
   },
   "outputs": [
    {
     "name": "stdout",
     "output_type": "stream",
     "text": [
      "[0, 0] [[0, 0]]\n",
      "[1, 0] [[1, 0], [1, 0]]\n",
      "[2, 0] [[2, 0], [2, 0], [2, 0]]\n",
      "[3, 0] [[3, 0], [3, 0], [3, 0], [3, 0]]\n",
      "[4, 0] [[4, 0], [4, 0], [4, 0], [4, 0], [4, 0]]\n",
      "[5, 0] [[5, 0], [5, 0], [5, 0], [5, 0], [5, 0], [5, 0]]\n",
      "[6, 0] [[6, 0], [6, 0], [6, 0], [6, 0], [6, 0], [6, 0], [6, 0]]\n",
      "[7, 0] [[7, 0], [7, 0], [7, 0], [7, 0], [7, 0], [7, 0], [7, 0], [7, 0]]\n",
      "[8, 0] [[8, 0], [8, 0], [8, 0], [8, 0], [8, 0], [8, 0], [8, 0], [8, 0], [8, 0]]\n",
      "[9, 0] [[9, 0], [9, 0], [9, 0], [9, 0], [9, 0], [9, 0], [9, 0], [9, 0], [9, 0], [9, 0]]\n"
     ]
    },
    {
     "data": {
      "text/plain": [
       "[[10, 0],\n",
       " [10, 0],\n",
       " [10, 0],\n",
       " [10, 0],\n",
       " [10, 0],\n",
       " [10, 0],\n",
       " [10, 0],\n",
       " [10, 0],\n",
       " [10, 0],\n",
       " [10, 0],\n",
       " [10, 0]]"
      ]
     },
     "execution_count": 20,
     "metadata": {},
     "output_type": "execute_result"
    }
   ],
   "source": [
    "pruebita2(2,10)"
   ]
  },
  {
   "cell_type": "code",
   "execution_count": 21,
   "metadata": {
    "collapsed": true
   },
   "outputs": [],
   "source": [
    "def pruebita3(n,N):\n",
    "    L = [0 for muda in srange(n)]\n",
    "    L1 = [tuple(L)]\n",
    "    for int in xsrange(N):\n",
    "        print L,L1\n",
    "        L[0] += 1\n",
    "        L1.append(tuple(L))\n",
    "    return L1"
   ]
  },
  {
   "cell_type": "code",
   "execution_count": 22,
   "metadata": {
    "collapsed": false
   },
   "outputs": [
    {
     "name": "stdout",
     "output_type": "stream",
     "text": [
      "[0, 0] [(0, 0)]\n",
      "[1, 0] [(0, 0), (1, 0)]\n",
      "[2, 0] [(0, 0), (1, 0), (2, 0)]\n",
      "[3, 0] [(0, 0), (1, 0), (2, 0), (3, 0)]\n",
      "[4, 0] [(0, 0), (1, 0), (2, 0), (3, 0), (4, 0)]\n",
      "[5, 0] [(0, 0), (1, 0), (2, 0), (3, 0), (4, 0), (5, 0)]\n",
      "[6, 0] [(0, 0), (1, 0), (2, 0), (3, 0), (4, 0), (5, 0), (6, 0)]\n",
      "[7, 0] [(0, 0), (1, 0), (2, 0), (3, 0), (4, 0), (5, 0), (6, 0), (7, 0)]\n",
      "[8, 0] [(0, 0), (1, 0), (2, 0), (3, 0), (4, 0), (5, 0), (6, 0), (7, 0), (8, 0)]\n",
      "[9, 0] [(0, 0), (1, 0), (2, 0), (3, 0), (4, 0), (5, 0), (6, 0), (7, 0), (8, 0), (9, 0)]\n"
     ]
    },
    {
     "data": {
      "text/plain": [
       "[(0, 0),\n",
       " (1, 0),\n",
       " (2, 0),\n",
       " (3, 0),\n",
       " (4, 0),\n",
       " (5, 0),\n",
       " (6, 0),\n",
       " (7, 0),\n",
       " (8, 0),\n",
       " (9, 0),\n",
       " (10, 0)]"
      ]
     },
     "execution_count": 22,
     "metadata": {},
     "output_type": "execute_result"
    }
   ],
   "source": [
    "pruebita3(2,10)"
   ]
  },
  {
   "cell_type": "code",
   "execution_count": 36,
   "metadata": {
    "collapsed": false
   },
   "outputs": [],
   "source": [
    "def pruebita4(n,N):\n",
    "    L = [0 for muda in srange(n)]\n",
    "    L1 = []\n",
    "    for int in xsrange(N):\n",
    "        print L,L1\n",
    "        L2 = copy(L)\n",
    "        L2[0] += 1\n",
    "        L1.append(L2)\n",
    "        L = copy(L2)\n",
    "    return L1"
   ]
  },
  {
   "cell_type": "code",
   "execution_count": 37,
   "metadata": {
    "collapsed": false
   },
   "outputs": [
    {
     "name": "stdout",
     "output_type": "stream",
     "text": [
      "[0, 0] []\n",
      "[1, 0] [[1, 0]]\n",
      "[2, 0] [[1, 0], [2, 0]]\n",
      "[3, 0] [[1, 0], [2, 0], [3, 0]]\n",
      "[4, 0] [[1, 0], [2, 0], [3, 0], [4, 0]]\n",
      "[5, 0] [[1, 0], [2, 0], [3, 0], [4, 0], [5, 0]]\n",
      "[6, 0] [[1, 0], [2, 0], [3, 0], [4, 0], [5, 0], [6, 0]]\n",
      "[7, 0] [[1, 0], [2, 0], [3, 0], [4, 0], [5, 0], [6, 0], [7, 0]]\n",
      "[8, 0] [[1, 0], [2, 0], [3, 0], [4, 0], [5, 0], [6, 0], [7, 0], [8, 0]]\n",
      "[9, 0] [[1, 0], [2, 0], [3, 0], [4, 0], [5, 0], [6, 0], [7, 0], [8, 0], [9, 0]]\n"
     ]
    },
    {
     "data": {
      "text/plain": [
       "[[1, 0],\n",
       " [2, 0],\n",
       " [3, 0],\n",
       " [4, 0],\n",
       " [5, 0],\n",
       " [6, 0],\n",
       " [7, 0],\n",
       " [8, 0],\n",
       " [9, 0],\n",
       " [10, 0]]"
      ]
     },
     "execution_count": 37,
     "metadata": {},
     "output_type": "execute_result"
    }
   ],
   "source": [
    "pruebita4(2,10)"
   ]
  },
  {
   "cell_type": "code",
   "execution_count": null,
   "metadata": {
    "collapsed": true
   },
   "outputs": [],
   "source": []
  }
 ],
 "metadata": {
  "kernelspec": {
   "display_name": "SageMath 7.3",
   "language": "",
   "name": "sagemath"
  },
  "language_info": {
   "codemirror_mode": {
    "name": "ipython",
    "version": 2
   },
   "file_extension": ".py",
   "mimetype": "text/x-python",
   "name": "python",
   "nbconvert_exporter": "python",
   "pygments_lexer": "ipython2",
   "version": "2.7.13"
  }
 },
 "nbformat": 4,
 "nbformat_minor": 0
}
