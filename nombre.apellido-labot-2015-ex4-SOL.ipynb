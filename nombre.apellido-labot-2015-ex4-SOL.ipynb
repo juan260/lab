{
 "cells": [
  {
   "cell_type": "markdown",
   "metadata": {},
   "source": [
    "<p><span style=\"color: #ff0000; font-size: medium;\">CALIFICACI&Oacute;N: <br /></span></p>\n",
    "<p><span style=\"color: #ff0000; font-size: medium;\">Por favor, empieza cambiando $nombre.apellido$ en el nombre de esta hoja por los tuyos, tal como aparecen en tu direcci&oacute;n de correo eletr&oacute;nico de la UAM, y deja el resto del nombre como est&aacute;.&nbsp;</span></p>\n",
    "<p><span style=\"color: #ff0000; font-size: medium;\">Debes intentar programar tus funciones de forma que no saturen la RAM del ordenador con valores razonablemente grandes de sus par&aacute;metros. Si con los valores que se indican en los enunciados no te funciona puedes reducirlos.&nbsp;</span></p>\n",
    "<p><span style=\"color: #ff0000; font-size: medium;\">Recuerda que debes entregar esta hoja de SAGE, con tus respuestas, en la carpeta $ENTREGA\\_examen\\_nombre.apellido-labot-ex4$ que est&aacute; en el escritorio de la cuenta que utilizas para el examen. Para guardar la hoja, una vez terminado el examen, utiliza el men&uacute; \"FILE&gt;Save worksheet to a File....\"</span></p>\n",
    "<h4>Ejercicio 1</h4>\n",
    "<p><span style=\"color: #ff0000;\"><span style=\"color: #000000;\">(3 puntos)</span> Calcula, experimentalmente,</span> la probabilidad de que al lanzar dos dados se obtenga una suma de &nbsp;puntos de al menos $10$ y adem&aacute;s, lanzado un tercer dado, la suma total de los puntos alcance al menos $15$ &nbsp;puntos. No es dif&iacute;cil resolver &nbsp;este ejercicio de manera exacta, y puedes hacerlo <span style=\"color: #ff0000;\">(es opcional)</span> como comprobaci&oacute;n <span style=\"color: #ff0000;\">escribiendo la respuesta</span> en el reverso de la hoja con la contrase&ntilde;a.</p>"
   ]
  },
  {
   "cell_type": "code",
   "execution_count": 1,
   "metadata": {
    "collapsed": false
   },
   "outputs": [],
   "source": [
    "def prob(N):\n",
    "    cont = 0\n",
    "    for muda in xsrange(N):\n",
    "        x = randint(1,6)\n",
    "        y = randint(1,6)\n",
    "        if x+y >= 10:\n",
    "            z = randint(1,6)\n",
    "            if x+y+z >= 15:\n",
    "                cont += 1\n",
    "    return (cont/N).n()"
   ]
  },
  {
   "cell_type": "code",
   "execution_count": 2,
   "metadata": {
    "collapsed": false
   },
   "outputs": [
    {
     "data": {
      "text/plain": [
       "0.0747600000000000"
      ]
     },
     "execution_count": 2,
     "metadata": {},
     "output_type": "execute_result"
    }
   ],
   "source": [
    "prob(10^5)"
   ]
  },
  {
   "cell_type": "markdown",
   "metadata": {},
   "source": [
    "<h4>Ejercicio 2</h4>\n",
    "<p>(6 puntos) En algunos sistemas criptogr&aacute;ficos, en particular en RSA, utilizamos como clave p&uacute;blica el producto de dos primos muy grandes. Decimos que un entero es <strong><span style=\"color: #000000;\">semiprimo</span></strong> si su factorizaci&oacute;n consiste en dos primos, diferentes o iguales &nbsp;(es decir, son enteros de la forma $n=p.q$ o bien &nbsp;$n=p^2$ con $p$ y $q$ primos).&nbsp;</p>\n",
    "<ol>\n",
    "<li><span style=\"color: #ff0000;\">Define</span> una funci&oacute;n $semip1(R)$ que cuente el n&uacute;mero de semiprimos en el intervalo $[1,R]$. Podemos decir que la <strong>densidad de los semiprimos</strong> en el intervalo&nbsp;&nbsp;$[1,R]$ es&nbsp;&nbsp;$semip1(R)/R$, que tambi&eacute;n podemos interpretar como<strong> la probabilidad de que un entero elegido al azar en el intervalo&nbsp;$[1,R]$ sea semiprimo</strong>.</li>\n",
    "<li><span style=\"color: #ff0000;\">&nbsp;Calcula</span> la densidad y el tiempo de c&aacute;lculo de la funci&oacute;n anterior &nbsp;con $R=10^4,10^5,10^6,10^7$. En este &uacute;ltimo caso el c&aacute;lculo puede durar del orden de $200$ segundos, y si tarda mucho m&aacute;s puedes reducir el valor de $R$ , por ejemplo a la mitad . <span style=\"color: #ff0000;\">&iquest;C&oacute;mo depende el tiempo de $R$?</span></li>\n",
    "<li>Los tiempos obtenidos en el apartado anterior nos parecen demasiado altos y decidimos probar a calcular la densidad &nbsp;eligiendo al azar un n&uacute;mero $N$ de enteros en el intervalo&nbsp;$[1,R]$ y contando cu&aacute;ntos son semiprimos. Para los valores de $R$ del apartado anterior, calcula tiempos y densidades mediante una <span style=\"color: #ff0000;\">funci&oacute;n $semip2(R,N)$ que debes definir</span>, &nbsp;y estudia c&oacute;mo conseguir una buena aproximaci&oacute;n a la densidad sin hacer $N$ demasiado grande. Es claro que si $N$ est&aacute; pr&oacute;ximo a $R$ las dos funciones hacen casi lo mismo y tardar&aacute;n tiempos similares, y lo que queremos es, por ejemplo, calcular dos cifras decimales correctas de la densidad con el \"m&iacute;nimo\" $N$, lo que va a hacer que el tiempo sea tambi&eacute;n \"m&iacute;nimo\". <span style=\"color: #ff0000; background-color: #ffffff;\">No se trata de calcular con toda precisi&oacute;n un $N$ m&iacute;nimo</span> (no tendr&iacute;a mucho sentido porque cada vez que ejecutamos la funci&oacute;n obtenemos resultados diferentes) sino de obtener una idea correcta del orden de magnitud &nbsp;del $N$ m&iacute;nimo, en funci&oacute;n de $R$, &nbsp;con el que conseguimos la precisi&oacute;n deseada. &nbsp; &nbsp;</li>\n",
    "</ol>"
   ]
  },
  {
   "cell_type": "code",
   "execution_count": 3,
   "metadata": {
    "collapsed": false
   },
   "outputs": [],
   "source": [
    "def semip1(R):\n",
    "    cont = 0\n",
    "    for int in xsrange(1,R):\n",
    "        L = list(factor(int))\n",
    "        if (len(L)==2 and L[0][1]==1 and L[1][1]==1) or (len(L)==1 and L[0][1]==2):\n",
    "            cont += 1\n",
    "    return cont"
   ]
  },
  {
   "cell_type": "code",
   "execution_count": 4,
   "metadata": {
    "collapsed": false
   },
   "outputs": [
    {
     "name": "stdout",
     "output_type": "stream",
     "text": [
      "CPU times: user 136 ms, sys: 20 ms, total: 156 ms\n",
      "Wall time: 142 ms\n"
     ]
    },
    {
     "data": {
      "text/plain": [
       "2625"
      ]
     },
     "execution_count": 4,
     "metadata": {},
     "output_type": "execute_result"
    }
   ],
   "source": [
    "time semip1(10^4)"
   ]
  },
  {
   "cell_type": "code",
   "execution_count": 5,
   "metadata": {
    "collapsed": false
   },
   "outputs": [
    {
     "name": "stdout",
     "output_type": "stream",
     "text": [
      "CPU times: user 1.43 s, sys: 120 ms, total: 1.55 s\n",
      "Wall time: 1.44 s\n"
     ]
    },
    {
     "data": {
      "text/plain": [
       "23378"
      ]
     },
     "execution_count": 5,
     "metadata": {},
     "output_type": "execute_result"
    }
   ],
   "source": [
    "time semip1(10^5)"
   ]
  },
  {
   "cell_type": "code",
   "execution_count": 6,
   "metadata": {
    "collapsed": false
   },
   "outputs": [
    {
     "name": "stdout",
     "output_type": "stream",
     "text": [
      "CPU times: user 14.3 s, sys: 224 ms, total: 14.5 s\n",
      "Wall time: 14.4 s\n"
     ]
    },
    {
     "data": {
      "text/plain": [
       "210035"
      ]
     },
     "execution_count": 6,
     "metadata": {},
     "output_type": "execute_result"
    }
   ],
   "source": [
    "time semip1(10^6)"
   ]
  },
  {
   "cell_type": "code",
   "execution_count": 7,
   "metadata": {
    "collapsed": false
   },
   "outputs": [
    {
     "name": "stdout",
     "output_type": "stream",
     "text": [
      "CPU times: user 2min 25s, sys: 1.62 s, total: 2min 26s\n",
      "Wall time: 2min 25s\n"
     ]
    },
    {
     "data": {
      "text/plain": [
       "1904324"
      ]
     },
     "execution_count": 7,
     "metadata": {},
     "output_type": "execute_result"
    }
   ],
   "source": [
    "time semip1(10^7)"
   ]
  },
  {
   "cell_type": "markdown",
   "metadata": {},
   "source": [
    "<p>Se observa que al multiplicar por $10$ el trabajo se multiplica por $10$ el tiempo. Esto parece querer decir que con estos valores de $R$, no muy altos, la factorizaci&oacute;n de enteros mucho m&aacute;s grandes no tarda m&aacute;s y el tiempo se multiplica por diez porque hay que tratar $10$ veces m&aacute;s enteros. &nbsp; La relaci&oacute;n entre el tiempo y $R$ parece ser lineal en este rango de valores ($R\\le 10^7$).</p>"
   ]
  },
  {
   "cell_type": "code",
   "execution_count": 8,
   "metadata": {
    "collapsed": false
   },
   "outputs": [],
   "source": [
    "def semip2(R,N):\n",
    "    cont = 0\n",
    "    for muda in xsrange(N):\n",
    "        int = randint(1,R)\n",
    "        L = list(factor(int))\n",
    "        if (len(L)==2 and L[0][1]==1 and L[1][1]==1) or (len(L)==1 and L[0][1]==2):\n",
    "            cont += 1\n",
    "    return cont"
   ]
  },
  {
   "cell_type": "code",
   "execution_count": 9,
   "metadata": {
    "collapsed": false
   },
   "outputs": [
    {
     "name": "stdout",
     "output_type": "stream",
     "text": [
      "CPU times: user 16 ms, sys: 8 ms, total: 24 ms\n",
      "Wall time: 19.8 ms\n"
     ]
    },
    {
     "data": {
      "text/plain": [
       "197"
      ]
     },
     "execution_count": 9,
     "metadata": {},
     "output_type": "execute_result"
    }
   ],
   "source": [
    "time semip2(10^6,10^3)"
   ]
  },
  {
   "cell_type": "code",
   "execution_count": 10,
   "metadata": {
    "collapsed": false
   },
   "outputs": [
    {
     "name": "stdout",
     "output_type": "stream",
     "text": [
      "CPU times: user 196 ms, sys: 24 ms, total: 220 ms\n",
      "Wall time: 196 ms\n"
     ]
    },
    {
     "data": {
      "text/plain": [
       "2134"
      ]
     },
     "execution_count": 10,
     "metadata": {},
     "output_type": "execute_result"
    }
   ],
   "source": [
    "time semip2(10^6,10^4)"
   ]
  },
  {
   "cell_type": "code",
   "execution_count": 11,
   "metadata": {
    "collapsed": false
   },
   "outputs": [
    {
     "name": "stdout",
     "output_type": "stream",
     "text": [
      "CPU times: user 1.85 s, sys: 88 ms, total: 1.94 s\n",
      "Wall time: 1.84 s\n"
     ]
    },
    {
     "data": {
      "text/plain": [
       "21061"
      ]
     },
     "execution_count": 11,
     "metadata": {},
     "output_type": "execute_result"
    }
   ],
   "source": [
    "time semip2(10^6,10^5)"
   ]
  },
  {
   "cell_type": "markdown",
   "metadata": {},
   "source": [
    "<p>Vemos que con $R=10^6$ y $N=10^4$ ya se obtienen $2$ decimales correctos de la densidad, y el resultado no mejora si subimos $N$ a $10^5$.&nbsp;</p>"
   ]
  },
  {
   "cell_type": "code",
   "execution_count": 12,
   "metadata": {
    "collapsed": false
   },
   "outputs": [
    {
     "name": "stdout",
     "output_type": "stream",
     "text": [
      "CPU times: user 192 ms, sys: 32 ms, total: 224 ms\n",
      "Wall time: 205 ms\n"
     ]
    },
    {
     "data": {
      "text/plain": [
       "1976"
      ]
     },
     "execution_count": 12,
     "metadata": {},
     "output_type": "execute_result"
    }
   ],
   "source": [
    "time semip2(10^7,10^4)"
   ]
  },
  {
   "cell_type": "code",
   "execution_count": 13,
   "metadata": {
    "collapsed": false
   },
   "outputs": [
    {
     "name": "stdout",
     "output_type": "stream",
     "text": [
      "CPU times: user 2.05 s, sys: 52 ms, total: 2.1 s\n",
      "Wall time: 2.07 s\n"
     ]
    },
    {
     "data": {
      "text/plain": [
       "18995"
      ]
     },
     "execution_count": 13,
     "metadata": {},
     "output_type": "execute_result"
    }
   ],
   "source": [
    "time semip2(10^7,10^5)"
   ]
  },
  {
   "cell_type": "markdown",
   "metadata": {},
   "source": [
    "<p>Con $R=10^7$ y $N=10^4$ ya obtenemos $3$ decimales correctos en un tiempo de menos de $3$ d'ecimas de segundo. No mejora al aumentar $N$ a 10^5$.&nbsp;</p>\n",
    "\n",
    "<h4>Ejercicio 3</h4>\n",
    "<p>(6 puntos) Supongamos que para cubrir un puesto de trabajo hay $n$ candidatos que deben <br />ser entrevistados para decidir cu&aacute;l de ellos obtendr&aacute; el puesto. Las <br />condiciones del problema son las siguientes:</p>\n",
    "<ol>\n",
    "<li>El n&uacute;mero $n$ de candidatos es conocido al comenzar el proceso de&nbsp;<br />selecci&oacute;n.</li>\n",
    "<li>Si entrevist&aacute;ramos a todos los candidatos los podr&iacute;amos ordenar&nbsp;<br />de mejor a peor sin empates.&nbsp;</li>\n",
    "<li>Los candidatos son entrevistados de uno en uno y en orden aleatorio, con&nbsp;<br />cada una de las $n!$ posibles ordenaciones elegida con probabilidad $1/n!.$</li>\n",
    "<li>\n",
    "<p>Despu&eacute;s de cada entrevista el candidato es aceptado o rechazado, y&nbsp;<br />esta decisi&oacute;n es irrevocable.</p>\n",
    "</li>\n",
    "<li>\n",
    "<p>La estrategia que utilizamos consiste en entrevistar a un cierto&nbsp;<br />n&uacute;mero $r\\le n$ de candidatos y elegir al siguiente entrevistado que es mejor que&nbsp;<br />los $r$ primeros. Si no existe elegimos al &uacute;ltimo aunque no ser&aacute; el mejor. &nbsp;Se puede demostrar que esta estrategia es &oacute;ptima.&nbsp;</p>\n",
    "</li>\n",
    "</ol>\n",
    "<p>Representamos cada repetici&oacute;n del experimento \"se presentan $n$ candidatos en orden aleatorio\" como una permutaci&oacute;n aleatoria de los enteros $1,2,3,\\dots,n$ y suponemos que $n$ es el mejor y $1$ el peor.&nbsp;</p>\n",
    "\n",
    "<p><span style=\"color: #ff0000;\">Define una funci&oacute;n $probabilidad(n,N)$</span> que nos devuelva el valor de $r$ que hace m&aacute;xima la probabilidad de elegir al mejor candidato cuando hay $n$ candidatos y la probabilidad m&aacute;xima obtenida. El segundo par&aacute;metro $N$ es el el n&uacute;mero de vueltas del bucle que usamos para calcular (experimentalmente) las probabilidades, &nbsp;y debe ser suficientemente grande para que las probabilidades tengan, al menos, un par de decimales \"correctos\" y no tan grande que el programa tarde demasiado. Cuando $n$ tiende a infinito, <span style=\"color: #ff0000;\">&iquest;qu&eacute; l&iacute;mite parece tener la probabilidad m&aacute;xima?&nbsp;</span></p>\n"
   ]
  },
  {
   "cell_type": "code",
   "execution_count": 14,
   "metadata": {
    "collapsed": false
   },
   "outputs": [],
   "source": [
    "def muestra0(n):\n",
    "    X = Permutations(n)\n",
    "    x = randint(0,factorial(n)-1)\n",
    "    return X[x]"
   ]
  },
  {
   "cell_type": "code",
   "execution_count": 15,
   "metadata": {
    "collapsed": false
   },
   "outputs": [],
   "source": [
    "def muestra(n):\n",
    "    return Permutations(n).random_element()"
   ]
  },
  {
   "cell_type": "code",
   "execution_count": 16,
   "metadata": {
    "collapsed": false
   },
   "outputs": [
    {
     "name": "stdout",
     "output_type": "stream",
     "text": [
      "CPU times: user 24 ms, sys: 0 ns, total: 24 ms\n",
      "Wall time: 24.2 ms\n"
     ]
    }
   ],
   "source": [
    "time P1 = muestra0(10)"
   ]
  },
  {
   "cell_type": "code",
   "execution_count": 17,
   "metadata": {
    "collapsed": false
   },
   "outputs": [
    {
     "name": "stdout",
     "output_type": "stream",
     "text": [
      "CPU times: user 0 ns, sys: 0 ns, total: 0 ns\n",
      "Wall time: 296 µs\n"
     ]
    }
   ],
   "source": [
    "time P2 = muestra(10)"
   ]
  },
  {
   "cell_type": "code",
   "execution_count": 18,
   "metadata": {
    "collapsed": false
   },
   "outputs": [
    {
     "name": "stdout",
     "output_type": "stream",
     "text": [
      "CPU times: user 0 ns, sys: 0 ns, total: 0 ns\n",
      "Wall time: 483 µs\n"
     ]
    }
   ],
   "source": [
    "time P1 = muestra0(20)"
   ]
  },
  {
   "cell_type": "markdown",
   "metadata": {},
   "source": [
    "<p>Esta &uacute;ltima tarda demasiado. parece claro que la mejor forma de elegir una permutaci&oacute;n aleatoria es usando el m&eacute;todo $random_element().$</p>"
   ]
  },
  {
   "cell_type": "code",
   "execution_count": 19,
   "metadata": {
    "collapsed": false
   },
   "outputs": [
    {
     "name": "stdout",
     "output_type": "stream",
     "text": [
      "CPU times: user 0 ns, sys: 0 ns, total: 0 ns\n",
      "Wall time: 95.1 µs\n"
     ]
    }
   ],
   "source": [
    "time P2 = muestra(20)"
   ]
  },
  {
   "cell_type": "code",
   "execution_count": 20,
   "metadata": {
    "collapsed": false
   },
   "outputs": [
    {
     "data": {
      "text/plain": [
       "[6, 5, 9, 7, 8]"
      ]
     },
     "execution_count": 20,
     "metadata": {},
     "output_type": "execute_result"
    }
   ],
   "source": [
    "L = muestra(9);L;L[:4];L[4:]"
   ]
  },
  {
   "cell_type": "code",
   "execution_count": 21,
   "metadata": {
    "collapsed": false
   },
   "outputs": [],
   "source": [
    "def prob0(n,r,N):\n",
    "    cont = 0\n",
    "    for muda in xsrange(N):\n",
    "            L = muestra(n)\n",
    "            M = max(L[:r])\n",
    "            CH = L[-1] \n",
    "            for item in L[r:]:\n",
    "                if item > M:\n",
    "                    CH = item\n",
    "                    break\n",
    "            if CH == n:\n",
    "                cont += 1\n",
    "    return (cont/N).n()"
   ]
  },
  {
   "cell_type": "code",
   "execution_count": 22,
   "metadata": {
    "collapsed": false
   },
   "outputs": [],
   "source": [
    "def probabilidad(n,N):\n",
    "    max = (0,1)\n",
    "    for r in srange(2,n):\n",
    "        p = prob0(n,r,N)\n",
    "        if p > max[0]:\n",
    "            max = (p,r)\n",
    "    return max"
   ]
  },
  {
   "cell_type": "code",
   "execution_count": 23,
   "metadata": {
    "collapsed": false
   },
   "outputs": [
    {
     "name": "stdout",
     "output_type": "stream",
     "text": [
      "CPU times: user 100 ms, sys: 28 ms, total: 128 ms\n",
      "Wall time: 100 ms\n"
     ]
    },
    {
     "data": {
      "text/plain": [
       "(0.439000000000000, 2)"
      ]
     },
     "execution_count": 23,
     "metadata": {},
     "output_type": "execute_result"
    }
   ],
   "source": [
    "time probabilidad(6,10^3)"
   ]
  },
  {
   "cell_type": "code",
   "execution_count": 24,
   "metadata": {
    "collapsed": false
   },
   "outputs": [
    {
     "name": "stdout",
     "output_type": "stream",
     "text": [
      "CPU times: user 224 ms, sys: 16 ms, total: 240 ms\n",
      "Wall time: 227 ms\n"
     ]
    },
    {
     "data": {
      "text/plain": [
       "(0.402000000000000, 4)"
      ]
     },
     "execution_count": 24,
     "metadata": {},
     "output_type": "execute_result"
    }
   ],
   "source": [
    "time probabilidad(10,10^3)"
   ]
  },
  {
   "cell_type": "code",
   "execution_count": 25,
   "metadata": {
    "collapsed": false
   },
   "outputs": [
    {
     "data": {
      "text/plain": [
       "[(0.395000000000000, 4),\n",
       " (0.406000000000000, 6),\n",
       " (0.396000000000000, 12),\n",
       " (0.404000000000000, 17),\n",
       " (0.393000000000000, 17),\n",
       " (0.380000000000000, 17),\n",
       " (0.399000000000000, 25),\n",
       " (0.381000000000000, 33),\n",
       " (0.391000000000000, 30)]"
      ]
     },
     "execution_count": 25,
     "metadata": {},
     "output_type": "execute_result"
    }
   ],
   "source": [
    "[probabilidad(10*k,10^3) for k in srange(1,10)]"
   ]
  },
  {
   "cell_type": "code",
   "execution_count": 26,
   "metadata": {
    "collapsed": false
   },
   "outputs": [
    {
     "data": {
      "text/plain": [
       "[(0.402800000000000, 3),\n",
       " (0.387600000000000, 6),\n",
       " (0.378900000000000, 11),\n",
       " (0.373600000000000, 13),\n",
       " (0.377700000000000, 22),\n",
       " (0.383100000000000, 20),\n",
       " (0.379500000000000, 24),\n",
       " (0.377600000000000, 29),\n",
       " (0.376600000000000, 30)]"
      ]
     },
     "execution_count": 26,
     "metadata": {},
     "output_type": "execute_result"
    }
   ],
   "source": [
    "[probabilidad(10*k,10^4) for k in srange(1,10)]"
   ]
  },
  {
   "cell_type": "markdown",
   "metadata": {},
   "source": [
    "<p>Observamos que hay oscilaciones en el $r$ que produce la probabilidad m&aacute;xima. Esto parece querer decir que para esos valores, quiz&aacute; demasiado bajos de $N$, hay oscilaciones en los valores de $r$ obtenidos y la probabilidad calculada quiz&aacute; no es muy precisa. Parece claro que &nbsp;los valores de la probabilidad, en el l&iacute;mite cuando $n$ crece, van a estar en el rango $0.37\\pm 0.01$, pero no hemos obtenido una justificaci&oacute;n suficiente para esta afirmaci&oacute;n. Probablemente hay que tratar de mejorar el c&oacute;digo para poder llegar m&aacute;s lejos ($N$ y $n$ mayores).</p>\n",
    "\n",
    "<h4>Ejercicio 4</h4>\n",
    "<p>(5 puntos) Consideramos un tablero infinito (en la pr&aacute;ctica ser&aacute; muy grande porque infinito no lo podemos hacer en el ordenador) bidimensional que representamos mediante los puntos de coordenadas enteras del cuadrado $T_N:=[0,2N]\\times [0,2N]\\subset \\mathbb{R}^2$ . El estado del tablero es entonces una matriz cuadrada de ceros y unos cuyos &iacute;ndices van de $0$ a $2N$. En el instante $t=0$ &nbsp;la &uacute;nica casilla negra es la central correspondiente al punto $(N,N)$. En cada instante de tiempo $t$ llamamos $X_t$ al conjunto de todas las casillas negras en ese instante y $V_t$ al conjunto de todas las casillas blancas que comparten un lado con una casilla negra. &nbsp;Obtenemos $X_{t+1}$ eligiendo al azar una casilla de $V_t$ y cambiando su color a negro.&nbsp;</p>\n",
    "<p>Nos interesa estudiar el aspecto de $X_t$ para $t$ muy grande (por ejemplo, $t=10^5,10^6$). &nbsp;<span style=\"color: #ff0000;\">Define una funci&oacute;n $tablero(t,N)$</span>&nbsp;(teniendo <span style=\"color: #ff0000;\">cuidado</span> de no saturar la RAM) que devuelva un estado&nbsp;$X_t$ del tablero obtenido mediante las reglas indicadas. <span style=\"color: #ff0000;\">Representa gr&aacute;ficamente</span> el tablero devuelto por la funci&oacute;n. El tama&ntilde;o del tablero debe ser suficientemente grande para que quede una zona totalmente blanca cerca del borde del tablero. <span style=\"color: #ff0000;\">Compara las gr&aacute;ficas</span> para $t=100,200,300,1000$ con las que se obtienen para $t$ muy grande, &iquest;qu&eacute; observas?</p>"
   ]
  },
  {
   "cell_type": "code",
   "execution_count": 27,
   "metadata": {
    "collapsed": false
   },
   "outputs": [],
   "source": [
    "def inicial(N):\n",
    "    M = matrix(ZZ,2*N+1,[1]*(2*N+1)^2)\n",
    "    M[N,N]=0\n",
    "    return M"
   ]
  },
  {
   "cell_type": "code",
   "execution_count": 28,
   "metadata": {
    "collapsed": false
   },
   "outputs": [],
   "source": [
    "def vecinos((a,b)):\n",
    "    return [(a,b+1),(a,b-1),(a-1,b),(a+1,b)]"
   ]
  },
  {
   "cell_type": "code",
   "execution_count": 29,
   "metadata": {
    "collapsed": false
   },
   "outputs": [
    {
     "data": {
      "text/plain": [
       "[1 1 1 1 1]\n",
       "[1 1 1 1 1]\n",
       "[1 1 0 1 1]\n",
       "[1 1 1 1 1]\n",
       "[1 1 1 1 1]"
      ]
     },
     "execution_count": 29,
     "metadata": {},
     "output_type": "execute_result"
    }
   ],
   "source": [
    "inicial(2)"
   ]
  },
  {
   "cell_type": "code",
   "execution_count": 30,
   "metadata": {
    "collapsed": false
   },
   "outputs": [],
   "source": [
    "def actualizar_tablero(T,V):\n",
    "    n = randint(0,len(V)-1)\n",
    "    (a,b) = V[n]\n",
    "    T[a,b] = 0\n",
    "    for (c,d) in vecinos(V[n]):\n",
    "        if T[c,d] == 1:\n",
    "            V.append((c,d))\n",
    "    V.pop(n)\n",
    "    return T,V"
   ]
  },
  {
   "cell_type": "code",
   "execution_count": 31,
   "metadata": {
    "collapsed": false
   },
   "outputs": [],
   "source": [
    "def tablero(t,N):\n",
    "    T = inicial(N)\n",
    "    V = vecinos((N,N))\n",
    "    for muda in srange(t):\n",
    "        T,V = actualizar_tablero(T,V)\n",
    "    return T"
   ]
  },
  {
   "cell_type": "code",
   "execution_count": 32,
   "metadata": {
    "collapsed": false
   },
   "outputs": [
    {
     "data": {
      "image/png": "[encoded data removed]",
      "text/plain": [
       "Graphics object consisting of 1 graphics primitive"
      ]
     },
     "execution_count": 32,
     "metadata": {},
     "output_type": "execute_result"
    }
   ],
   "source": [
    "matrix_plot(tablero(100,40))"
   ]
  },
  {
   "cell_type": "code",
   "execution_count": 33,
   "metadata": {
    "collapsed": false
   },
   "outputs": [
    {
     "data": {
      "image/png": "[encoded data removed]",
      "text/plain": [
       "Graphics object consisting of 1 graphics primitive"
      ]
     },
     "execution_count": 33,
     "metadata": {},
     "output_type": "execute_result"
    }
   ],
   "source": [
    "matrix_plot(tablero(200,40))"
   ]
  },
  {
   "cell_type": "code",
   "execution_count": 34,
   "metadata": {
    "collapsed": false
   },
   "outputs": [
    {
     "data": {
      "image/png": "[encoded data removed]",
      "text/plain": [
       "Graphics object consisting of 1 graphics primitive"
      ]
     },
     "execution_count": 34,
     "metadata": {},
     "output_type": "execute_result"
    }
   ],
   "source": [
    "matrix_plot(tablero(300,40))"
   ]
  },
  {
   "cell_type": "code",
   "execution_count": 35,
   "metadata": {
    "collapsed": false
   },
   "outputs": [
    {
     "data": {
      "image/png": "[encoded data removed]",
      "text/plain": [
       "Graphics object consisting of 1 graphics primitive"
      ]
     },
     "execution_count": 35,
     "metadata": {},
     "output_type": "execute_result"
    }
   ],
   "source": [
    "matrix_plot(tablero(1000,40))"
   ]
  },
  {
   "cell_type": "code",
   "execution_count": null,
   "metadata": {
    "collapsed": false
   },
   "outputs": [
    {
     "name": "stdout",
     "output_type": "stream",
     "text": [
      "CPU times: user 4.75 s, sys: 232 ms, total: 4.98 s\n",
      "Wall time: 4.88 s\n"
     ]
    },
    {
     "data": {
      "image/png": "[encoded data removed]",
      "text/plain": [
       "Graphics object consisting of 1 graphics primitive"
      ]
     },
     "execution_count": 36,
     "metadata": {},
     "output_type": "execute_result"
    }
   ],
   "source": [
    "time matrix_plot(tablero(10^5,2000))"
   ]
  },
  {
   "cell_type": "code",
   "execution_count": null,
   "metadata": {
    "collapsed": false
   },
   "outputs": [
    {
     "name": "stdout",
     "output_type": "stream",
     "text": [
      "CPU times: user 13.9 s, sys: 376 ms, total: 14.3 s\n",
      "Wall time: 14 s\n"
     ]
    }
   ],
   "source": [
    "time matrix_plot(tablero(10^6,2000))"
   ]
  },
  {
   "cell_type": "markdown",
   "metadata": {},
   "source": [
    "<p>Lo esencial en la funci&oacute;n $actualiza\\_tablero$ es que la nueva listta de vecinos de un cuadrado que pasa a ser negro se calcula quitando &eacute;ste &uacute;ltimo de la lista y a&ntilde;adiendo los vecinos que no son ya negros. Es &eacute;sto lo que hace posible ejecutar el c&oacute;digo para valores de $t$ tan grandes. Se observa que para $t$ muy grande la zona negra tiende a un disco, es decir, aunque se genera de forma aleatoria, a largo plazo alcanza una regularidad enorme. &nbsp;</p>"
   ]
  }
 ],
 "metadata": {
  "kernelspec": {
   "display_name": "SageMath 7.3",
   "language": "",
   "name": "sagemath"
  },
  "language_info": {
   "codemirror_mode": {
    "name": "ipython",
    "version": 2
   },
   "file_extension": ".py",
   "mimetype": "text/x-python",
   "name": "python",
   "nbconvert_exporter": "python",
   "pygments_lexer": "ipython2",
   "version": "2.7.13"
  }
 },
 "nbformat": 4,
 "nbformat_minor": 0
}
