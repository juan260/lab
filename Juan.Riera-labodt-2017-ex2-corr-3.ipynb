{
 "cells": [
  {
   "cell_type": "markdown",
   "metadata": {},
   "source": [
    "1) Antes que nada, lee cuidadosamente estas instrucciones y las que aparecen en la hoja con la contraseña. .\n",
    "\n",
    "2) Cambia el nombre de este archivo sustituyendo \"nombre.apellido\" por los tuyos, tal como aparecen en tu dirección de correo electrónico de la UAM.\n",
    "\n",
    "3) Este archivo debe quedar en la carpeta \"ENTREGA...\" que está en el escritorio de tu cuenta de examen. Lo mejor es que esté en esa carpeta desde el comienzo del examen.\n",
    "\n",
    "4) El examen resuelto debe quedar en este único archivo. No se puede usar un archivo para cada pregunta.\n",
    "\n",
    "5) Recuerda que hay que deshabilitar el salvapantallas al comenzar el examen, tal como está indicado en la hoja con la contraseña. \n",
    "\n",
    "\n",
    "CALIFICACIÓN:\n"
   ]
  },
  {
   "cell_type": "code",
   "execution_count": null,
   "metadata": {
    "collapsed": true
   },
   "outputs": [],
   "source": [
    "3+0+"
   ]
  },
  {
   "cell_type": "markdown",
   "metadata": {},
   "source": [
    "COMENTARIOS:\n",
    "\n",
    "1)"
   ]
  },
  {
   "cell_type": "markdown",
   "metadata": {},
   "source": [
    "## Ejercicio 1\n",
    "\n",
    "(3 puntos) Podemos estimar el valor de $\\alpha(x):=\\sqrt{1+x}$ como $\\beta(x):=1+(x/2)$ cuando $x$ es,  en valor absoluto,  suficientement próximo a cero. Consideramos que la estimación *es aceptable* cuando  el error relativo $$E(x):=\\frac{abs(\\alpha(x)-\\beta(x))}{\\alpha(x)}$$ que cometemos es menor que $0.01$. \n",
    "\n",
    "1) Determina, experimentalmente,  una cota $\\vert x\\vert < A$ tal que la estimación es aceptable para los $x$ que la cumplen, y deja de serlo para $\\vert x\\vert \\ge A$. \n",
    "\n",
    "2) ¿Qué podemos hacer para mejorar la estimación? Postula una nueva estimación $\\beta_1(x)$ y demuestra que con ella se obtienen resultados bastante más precisos."
   ]
  },
  {
   "cell_type": "code",
   "execution_count": 1,
   "metadata": {
    "collapsed": true
   },
   "outputs": [],
   "source": [
    "def alpha(x):\n",
    "    return sqrt(1+x)"
   ]
  },
  {
   "cell_type": "code",
   "execution_count": 2,
   "metadata": {
    "collapsed": true
   },
   "outputs": [],
   "source": [
    "def beta(x):\n",
    "    return 1+(x/2)"
   ]
  },
  {
   "cell_type": "code",
   "execution_count": 3,
   "metadata": {
    "collapsed": true
   },
   "outputs": [],
   "source": [
    "def ErrorRelAlphaBeta(x):\n",
    "    return (abs(alpha(x) - beta(x))/alpha(x))"
   ]
  },
  {
   "cell_type": "code",
   "execution_count": 4,
   "metadata": {
    "collapsed": true
   },
   "outputs": [],
   "source": [
    "def buscarCota(precision, Error):\n",
    "    cotamax=1\n",
    "    cotamin=0\n",
    "    ErrorRel=0\n",
    "    for i in srange(precision):\n",
    "        for j in srange(cotamin, cotamax, (cotamax-cotamin)/10):\n",
    "            ErrorRel=ErrorRelAlphaBeta(j)\n",
    "            if(ErrorRel<Error):\n",
    "                cotamin=j\n",
    "            if(ErrorRel>Error):\n",
    "                cotamax=j\n",
    "                break\n",
    "        if(cotamin==cotamax):\n",
    "            return cotamin\n",
    "    return (cotamin+cotamax)/2"
   ]
  },
  {
   "cell_type": "code",
   "execution_count": 5,
   "metadata": {
    "collapsed": false,
    "scrolled": true
   },
   "outputs": [
    {
     "data": {
      "text/html": [
       "<html><script type=\"math/tex; mode=display\">\\newcommand{\\Bold}[1]{\\mathbf{#1}}0.326500000000000</script></html>"
      ],
      "text/plain": [
       "0.326500000000000"
      ]
     },
     "metadata": {},
     "output_type": "display_data"
    }
   ],
   "source": [
    "show(buscarCota(3, 0.01).n())"
   ]
  },
  {
   "cell_type": "code",
   "execution_count": 6,
   "metadata": {
    "collapsed": false
   },
   "outputs": [
    {
     "data": {
      "text/html": [
       "<html><script type=\"math/tex; mode=display\">\\newcommand{\\Bold}[1]{\\mathbf{#1}}0.326584426950000</script></html>"
      ],
      "text/plain": [
       "0.326584426950000"
      ]
     },
     "metadata": {},
     "output_type": "display_data"
    }
   ],
   "source": [
    "show(buscarCota(10, 0.01).n())"
   ]
  },
  {
   "cell_type": "code",
   "execution_count": 7,
   "metadata": {
    "collapsed": false
   },
   "outputs": [
    {
     "data": {
      "text/html": [
       "<html><script type=\"math/tex; mode=display\">\\newcommand{\\Bold}[1]{\\mathbf{#1}}0.326584426950890</script></html>"
      ],
      "text/plain": [
       "0.326584426950890"
      ]
     },
     "metadata": {},
     "output_type": "display_data"
    }
   ],
   "source": [
    "show(buscarCota(20, 0.01).n())"
   ]
  },
  {
   "cell_type": "markdown",
   "metadata": {},
   "source": [
    "Vemos que para las tres precisiones los numeros son bastante cercanos, así que podemos suponer que nuestra cota está cerca del acierto.\n",
    "Para el apartado 2, vemos que es una aproximación de Taylor de grado 1 en el punto 0, si la hacemos de grado mayor, obtendremos aproximaciones de grados mejores."
   ]
  },
  {
   "cell_type": "code",
   "execution_count": 8,
   "metadata": {
    "collapsed": false
   },
   "outputs": [
    {
     "data": {
      "text/html": [
       "<html><script type=\"math/tex; mode=display\">\\newcommand{\\Bold}[1]{\\mathbf{#1}}\\frac{1}{2} \\, x + 1</script></html>"
      ],
      "text/plain": [
       "1/2*x + 1"
      ]
     },
     "metadata": {},
     "output_type": "display_data"
    }
   ],
   "source": [
    "var('x')\n",
    "show(taylor(sqrt(1+x), x, 0, 1))"
   ]
  },
  {
   "cell_type": "code",
   "execution_count": 9,
   "metadata": {
    "collapsed": false
   },
   "outputs": [
    {
     "data": {
      "text/html": [
       "<html><script type=\"math/tex; mode=display\">\\newcommand{\\Bold}[1]{\\mathbf{#1}}\\frac{7}{256} \\, x^{5} - \\frac{5}{128} \\, x^{4} + \\frac{1}{16} \\, x^{3} - \\frac{1}{8} \\, x^{2} + \\frac{1}{2} \\, x + 1</script></html>"
      ],
      "text/plain": [
       "7/256*x^5 - 5/128*x^4 + 1/16*x^3 - 1/8*x^2 + 1/2*x + 1"
      ]
     },
     "metadata": {},
     "output_type": "display_data"
    }
   ],
   "source": [
    "polinomio(x)=taylor(sqrt(1+x), x, 0, 5)\n",
    "show(polinomio(x))"
   ]
  },
  {
   "cell_type": "markdown",
   "metadata": {},
   "source": [
    "Podemos buscar una nueva cota con este nuevo polinomio en vez de beta"
   ]
  },
  {
   "cell_type": "code",
   "execution_count": 10,
   "metadata": {
    "collapsed": true
   },
   "outputs": [],
   "source": [
    "\n",
    "def ErrorRelPolBeta(y):\n",
    "    return (abs(alpha(y) - polinomio(y))/alpha(y))\n",
    "\n",
    "def buscarCota2(precision, Error):\n",
    "    cotamax=1\n",
    "    cotamin=0\n",
    "    ErrorRel=0\n",
    "    for i in srange(precision):\n",
    "        for j in srange(cotamin, cotamax, (cotamax-cotamin)/10):\n",
    "            ErrorRel=ErrorRelPolBeta(j)\n",
    "            if(ErrorRel<Error):\n",
    "                cotamin=j\n",
    "            if(ErrorRel>Error):\n",
    "                cotamax=j\n",
    "                break\n",
    "        if(cotamin==cotamax):\n",
    "            return cotamin\n",
    "    return (cotamin+cotamax)/2"
   ]
  },
  {
   "cell_type": "code",
   "execution_count": 11,
   "metadata": {
    "collapsed": false
   },
   "outputs": [
    {
     "data": {
      "text/html": [
       "<html><script type=\"math/tex; mode=display\">\\newcommand{\\Bold}[1]{\\mathbf{#1}}0.999999999950000</script></html>"
      ],
      "text/plain": [
       "0.999999999950000"
      ]
     },
     "metadata": {},
     "output_type": "display_data"
    }
   ],
   "source": [
    "show(buscarCota2(10, 0.01).n())"
   ]
  },
  {
   "cell_type": "markdown",
   "metadata": {},
   "source": [
    "Vemos que esta cota es más alta que la anterior y que por tanto, nuestra nueva aproximación es mejor"
   ]
  },
  {
   "cell_type": "markdown",
   "metadata": {},
   "source": [
    "## Ejercicio 2\n",
    "\n",
    "(3 puntos) John Napier publicó su invención de los logaritmos en 1614, mucho antes de la invención del cálculo diferencial. El punto esencial para que los logaritmos fueran útiles era la existencia de *tablas de logaritmos* en las que uno encontraba los logaritmos de los factores, que sumaba a mano, y volvía a usar para encontrar el número cuyo logaritmo era la suma obtenida, es decir,  el producto de los números de partida. \n",
    "Henry Briggs colaboró con Napier para producir las primeras tablas de logaritmos mediante el siguiente procedimiento:\n",
    "\n",
    "1) Queremos calcular el logaritmo de un entero $n>1$. Calculamos $n^{1/2^k}$ para $k=1,2,3,\\dots$ hasta que el resultado difiera *muy poco* de $1$. Esto es lo mismo que iterar la extracción de raíces cuadradas hasta llegar casi a $1$. Escribimos \n",
    "$$n^{1/2^k}=1+x.$$\n",
    "\n",
    "2) Ahora tomamos logaritmos para obtener \n",
    "$$log(n)=2^klog(1+x).$$\n",
    "\n",
    "3) Finalmente, Briggs observó que para $x$ suficientemente pequeño en valor absoluto, podía sustituir $log(1+x)$ por $x$, y quedaba $log(n)$ aproximadamente igual a  $2^kx.$ \n",
    "\n",
    "Es claro que lo que necesitamos es saber *cómo de pequeño tiene que ser $x$ para obtener un número prefijado $k$ de cifras decimales exactas del logaritmo de $n$.*\n",
    "\n",
    "A) Define una función $buscar(n,k,precis)$ que debe efectuar el procedimiento de Briggs hasta que la estimación obtenida tenga el número $k$ de cifras correctas de $log(n)$, y en ese momento debe devolver $x$. La precisión arbitraria en los cálculos, determinada por el parámetro *precis* hace falta porque sin ella un cierto bucle $while$ puede hacerse infinito cuando $n$ o $k$ son *grandes*. \n",
    "\n",
    "B) Experimenta con la función del primer apartado y, como consecuencia,  enuncia y comprueba la regla que indica cómo de pequeño tiene que ser $x$ para obtener $k$ cifras correctas del logaritmo de $n$."
   ]
  },
  {
   "cell_type": "code",
   "execution_count": 12,
   "metadata": {
    "collapsed": true
   },
   "outputs": [],
   "source": [
    "#Esta función devolverá 1 si tenemos la precision que queríamos y 0 si no\n",
    "def rightPrecision(n, m, desiredPrec, precis):\n",
    "    precis=RealField(prec=precis)\n",
    "    n=n*(10**(RR(desiredPrec)))\n",
    "    m=m*(10**(RR(desiredPrec)))\n",
    "    if(floor(abs(n-m))==0):\n",
    "        return 1\n",
    "    else:\n",
    "        return 0\n",
    "    \n",
    "    "
   ]
  },
  {
   "cell_type": "code",
   "execution_count": 13,
   "metadata": {
    "collapsed": false
   },
   "outputs": [],
   "source": [
    "def buscar(n, k, precis):\n",
    "    i=1\n",
    "    flag1=1\n",
    "    x=0\n",
    "    while(i<100):\n",
    "        RR=RealField(prec=precis)\n",
    "        x=RR((n**(1/(2**i)))-1)\n",
    "#        print RR(log(n)), RR((2**i)*log(1+x))\n",
    "        if(rightPrecision(RR(log(n)), RR((2**i)*log(1+x)), k, precis)):\n",
    "            \n",
    "            return i\n",
    "        i=i+1"
   ]
  },
  {
   "cell_type": "code",
   "execution_count": 14,
   "metadata": {
    "collapsed": false
   },
   "outputs": [
    {
     "data": {
      "text/plain": [
       "1"
      ]
     },
     "execution_count": 14,
     "metadata": {},
     "output_type": "execute_result"
    }
   ],
   "source": [
    "buscar(23,10,1024)"
   ]
  },
  {
   "cell_type": "markdown",
   "metadata": {},
   "source": [
    "## Ejercicio 3\n",
    "\n",
    "(4 puntos) El método BBP que permite calcular una cifra determinada de $\\pi$, la $n$-ésima, sin calcular las anteriores se puede aplicar a algunas otras constantes. Por ejemplo, para $log(2)$ se puede usar la serie\n",
    "$$log(2)=\\sum_{k=1}^{\\infty}\\frac{1}{2^kk}.$$\n",
    "\n",
    "1) En la primera celda se reproduce el código BPP para $\\pi$, y lo primero que debes hacer es modificarlo para que funcione para $log(2)$ mediante la serie indicada. La última función, la que devuelve cifras binarias de $log(2)$, debe llamarse $cifra\\_log2(n)$. \n",
    "\n",
    "2) Modifica el código del apartado 1) para haga todos los cálculos con una precisión (en bits) arbitraria, es decir, la nueva función debe llamarse $cifra\\_log2(n,precis)$.\n",
    "\n",
    "3) Define una función $compara(C1,C2)$ que, dadas dos cadenas de caracteres,  cuente, hasta la primera discrepancia,  el número de caracteres de $C1$ que ocupan el mismo lugar en $C2$. Es decir, si el primer caracter es diferente debe devolver cero, si el primero es igual pero el segundo es diferente debe devolver uno, etc.\n",
    "\n",
    "4) Jugando con la función  $cifra\\_log2(n,precis)$ se observa que cuanto mayor es la precisión más cifras correctas de $log(2)$, a partir de la $n$-ésima,  devuelve, y que fijada la precisión el número de cifras correctas no depende mucho de $n$ y es del orden de la precisión. \n",
    "La parte final del ejercicio consiste en comprobar sistemáticamente  estas afirmaciones, para lo que debemos comparar  cadenas $C1$ generadas por $cifra\\_log2(n,precis)$ con la parte relevante de  cadenas $C2$  $$(log(2).n(prec=precis)).str(base=2,no\\_sci=2)$$\n",
    "que nos dan las cifras correctas de $log(2).$ El parámetro $no\\_sci=2$ sirve para que no se devuelva el resultado en notación científica estándar (i.e. parte entera de un único dígito, decimales,  y exponente de una potencia de $10$).\n",
    "\n"
   ]
  },
  {
   "cell_type": "code",
   "execution_count": 1,
   "metadata": {
    "collapsed": true
   },
   "outputs": [],
   "source": [
    "def F0(j,n):\n",
    "    S =RR(0.0)\n",
    "    k =0 \n",
    "    while k <= n:\n",
    "        r = 8*k+j\n",
    "        S += RR(power_mod(16,n-k,r)/r)-floor(RR(power_mod(16,n-k,r)/r))\n",
    "        k += 1\n",
    "    return RR(S)\n",
    "\n",
    "def F1(j,n):\n",
    "    S =RR(0.0)\n",
    "    k =n+1\n",
    "    while 1:\n",
    "        r = 8*k+j\n",
    "        nS = S+ RR(16^(n-k)/r)\n",
    "        if S == nS:\n",
    "            break\n",
    "        else:\n",
    "            S = nS\n",
    "        k += 1\n",
    "    return RR(S)\n",
    "\n",
    "def S(j,n):\n",
    "    return RR(F0(j,n)+F1(j,n))\n",
    "\n",
    "def cifra_pi(n):\n",
    "    n -= 1\n",
    "    x = (4*RR(S(1,n))-2*RR(S(4,n))-RR(S(5,n))-RR(S(6,n)))\n",
    "    return (x-floor(x)).str(base=16,no_sci=2)"
   ]
  },
  {
   "cell_type": "code",
   "execution_count": 62,
   "metadata": {
    "collapsed": true
   },
   "outputs": [],
   "source": [
    "#Apartado 1\n",
    "def F2(n):\n",
    "    var('k')\n",
    "    return sum((2**(n-k))/k, k, 1, +oo)\n",
    "def cifra_log2(n):\n",
    "    return str(floor((5**n)*F2(n)))[-1]"
   ]
  },
  {
   "cell_type": "code",
   "execution_count": 63,
   "metadata": {
    "collapsed": false
   },
   "outputs": [
    {
     "data": {
      "text/plain": [
       "'3'"
      ]
     },
     "execution_count": 63,
     "metadata": {},
     "output_type": "execute_result"
    }
   ],
   "source": [
    "cifra_log2(3)"
   ]
  },
  {
   "cell_type": "code",
   "execution_count": 66,
   "metadata": {
    "collapsed": false
   },
   "outputs": [],
   "source": [
    "#Apartado 2\n",
    "def F3(n, precis):\n",
    "    var('k')\n",
    "    NR=RealField(prec=precis)\n",
    "    return NR(sum((2**(n-k))/k, k, 1, +oo))\n",
    "\n",
    "def cifra_log2(n,precis):\n",
    "    NR=RealField(prec=precis)\n",
    "    return str(floor(NR((5**n)*F3(n, precis))))[-1]"
   ]
  },
  {
   "cell_type": "code",
   "execution_count": 67,
   "metadata": {
    "collapsed": false
   },
   "outputs": [
    {
     "data": {
      "text/plain": [
       "'8'"
      ]
     },
     "execution_count": 67,
     "metadata": {},
     "output_type": "execute_result"
    }
   ],
   "source": [
    "cifra_log2(40, 100)"
   ]
  },
  {
   "cell_type": "code",
   "execution_count": 90,
   "metadata": {
    "collapsed": false
   },
   "outputs": [],
   "source": [
    "#Apartado 3:\n",
    "def compara(C1,C2):\n",
    "    if(len(C2)<len(C1)):\n",
    "        longMin=len(C2)\n",
    "    else:\n",
    "        longMin=len(C1)\n",
    "    for i in srange(longMin):\n",
    "        if(C1[i]!=C2[i]):\n",
    "            break\n",
    "    return i"
   ]
  },
  {
   "cell_type": "code",
   "execution_count": 132,
   "metadata": {
    "collapsed": false
   },
   "outputs": [
    {
     "data": {
      "text/plain": [
       "0"
      ]
     },
     "execution_count": 132,
     "metadata": {},
     "output_type": "execute_result"
    }
   ],
   "source": [
    "#Apartado 4\n",
    "string=[]\n",
    "precis=100\n",
    "for i in srange(100):\n",
    "    string.append(cifra_log2(i, precis))\n",
    "compara(string ,(log(2)).n(prec=precis).str(base=2,no_sci=2)[1:])"
   ]
  },
  {
   "cell_type": "code",
   "execution_count": 128,
   "metadata": {
    "collapsed": false
   },
   "outputs": [
    {
     "data": {
      "text/plain": [
       "'0.1011000101110010000101111111011111010001110011110111100110101011110010011110001110110011100110000000'"
      ]
     },
     "execution_count": 128,
     "metadata": {},
     "output_type": "execute_result"
    }
   ],
   "source": [
    "(log(2).n(prec=precis)).str(base=2,no_sci=2)"
   ]
  },
  {
   "cell_type": "code",
   "execution_count": null,
   "metadata": {
    "collapsed": true
   },
   "outputs": [],
   "source": []
  }
 ],
 "metadata": {
  "kernelspec": {
   "display_name": "SageMath 7.5.1",
   "language": "",
   "name": "sagemath"
  },
  "language_info": {
   "codemirror_mode": {
    "name": "ipython",
    "version": 2
   },
   "file_extension": ".py",
   "mimetype": "text/x-python",
   "name": "python",
   "nbconvert_exporter": "python",
   "pygments_lexer": "ipython2",
   "version": "2.7.13"
  }
 },
 "nbformat": 4,
 "nbformat_minor": 0
}
